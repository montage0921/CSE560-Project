{
 "cells": [
  {
   "cell_type": "code",
   "execution_count": 1,
   "metadata": {},
   "outputs": [],
   "source": [
    "import pandas as pd\n",
    "import numpy as np"
   ]
  },
  {
   "cell_type": "code",
   "execution_count": 2,
   "metadata": {},
   "outputs": [
    {
     "name": "stdout",
     "output_type": "stream",
     "text": [
      "<class 'pandas.core.frame.DataFrame'>\n",
      "RangeIndex: 635919 entries, 0 to 635918\n",
      "Data columns (total 6 columns):\n",
      " #   Column             Non-Null Count   Dtype \n",
      "---  ------             --------------   ----- \n",
      " 0   nconst             635919 non-null  object\n",
      " 1   primaryName        635919 non-null  object\n",
      " 2   birthYear          635919 non-null  object\n",
      " 3   deathYear          635919 non-null  object\n",
      " 4   primaryProfession  635919 non-null  object\n",
      " 5   knownForTitles     635919 non-null  object\n",
      "dtypes: object(6)\n",
      "memory usage: 29.1+ MB\n"
     ]
    }
   ],
   "source": [
    "people_df = pd.read_csv(r\"C:\\Users\\19692\\Downloads\\CSE560-Project\\sampled_data\\people_sampled.tsv\", sep=\"\\t\")\n",
    "people_df.info()"
   ]
  },
  {
   "cell_type": "code",
   "execution_count": 3,
   "metadata": {},
   "outputs": [],
   "source": [
    "# replace \\N to ''\n",
    "people_df['birthYear'] = people_df['birthYear'].replace(r'\\N','')\n",
    "people_df['deathYear'] = people_df['deathYear'].replace(r'\\N','')\n",
    "people_df['primaryProfession'] = people_df['primaryProfession'].replace(r'\\N','')\n",
    "people_df['knownForTitles'] = people_df['knownForTitles'].replace(r'\\N','')\n"
   ]
  },
  {
   "cell_type": "code",
   "execution_count": 4,
   "metadata": {},
   "outputs": [],
   "source": [
    "# drop na rows for not null columns\n",
    "people_df[[\"nconst\", \"primaryName\",\"primaryProfession\"]].dropna()\n",
    "people_df = people_df[people_df[\"primaryName\"].isna()==False]\n",
    "people_df = people_df[people_df[\"primaryProfession\"].isna()==False]"
   ]
  },
  {
   "cell_type": "code",
   "execution_count": 5,
   "metadata": {},
   "outputs": [],
   "source": [
    "# replace , and ; to /\n",
    "people_df['primaryName'] = people_df['primaryName'].str.replace(r',','/', regex=False)\n",
    "people_df['primaryName'] = people_df['primaryName'].str.replace(r';','/', regex=False)"
   ]
  },
  {
   "cell_type": "code",
   "execution_count": 85,
   "metadata": {},
   "outputs": [],
   "source": [
    "import psycopg2\n",
    "import io\n",
    "\n",
    "conn = psycopg2.connect(\n",
    "    dbname=\"postgres\",\n",
    "    user=\"postgres.rnxnnqsyjcircloxrryq\",\n",
    "    password=\"cse560courseproject\",\n",
    "    host=\"aws-0-us-east-1.pooler.supabase.com\",\n",
    "    port=6543\n",
    ")\n",
    "cur = conn.cursor()"
   ]
  },
  {
   "cell_type": "code",
   "execution_count": 86,
   "metadata": {},
   "outputs": [],
   "source": [
    "conn.rollback()"
   ]
  },
  {
   "cell_type": "markdown",
   "metadata": {},
   "source": [
    "## Get People relation"
   ]
  },
  {
   "cell_type": "code",
   "execution_count": 44,
   "metadata": {},
   "outputs": [],
   "source": [
    "people = people_df[['nconst','primaryName','birthYear','deathYear']]"
   ]
  },
  {
   "cell_type": "code",
   "execution_count": 48,
   "metadata": {},
   "outputs": [
    {
     "data": {
      "text/plain": [
       "0"
      ]
     },
     "execution_count": 48,
     "metadata": {},
     "output_type": "execute_result"
    }
   ],
   "source": [
    "\n",
    "# for tv_movie relation\n",
    "buffer = io.StringIO()\n",
    "people.to_csv(buffer, index=False, header=False)\n",
    "buffer.seek(0)"
   ]
  },
  {
   "cell_type": "code",
   "execution_count": 49,
   "metadata": {},
   "outputs": [],
   "source": [
    "\n",
    "# upload data to tv_movie\n",
    "cur.copy_from(buffer, 'people', sep=',', null='')\n",
    "conn.commit()"
   ]
  },
  {
   "cell_type": "markdown",
   "metadata": {},
   "source": [
    "## Get Profession"
   ]
  },
  {
   "cell_type": "code",
   "execution_count": 50,
   "metadata": {},
   "outputs": [],
   "source": [
    "profession_set = set()\n",
    "for i, row in people_df.iterrows():\n",
    "    profession = row['primaryProfession']\n",
    "    profession_arr = profession.split(\",\")\n",
    "    for p in profession_arr:\n",
    "        profession_set.add(p)"
   ]
  },
  {
   "cell_type": "code",
   "execution_count": 60,
   "metadata": {},
   "outputs": [],
   "source": [
    "profession_df = pd.DataFrame(list(profession_set), columns=['profession_name'])"
   ]
  },
  {
   "cell_type": "code",
   "execution_count": 61,
   "metadata": {},
   "outputs": [],
   "source": [
    "profession_df = profession_df[\n",
    "    profession_df['profession_name'].notna() & \n",
    "    (profession_df['profession_name'].str.strip() != '')\n",
    "]"
   ]
  },
  {
   "cell_type": "code",
   "execution_count": 69,
   "metadata": {},
   "outputs": [
    {
     "data": {
      "text/plain": [
       "0"
      ]
     },
     "execution_count": 69,
     "metadata": {},
     "output_type": "execute_result"
    }
   ],
   "source": [
    "# for tv_movie relation\n",
    "buffer = io.StringIO()\n",
    "profession_df.to_csv(buffer, index=False, header=False)\n",
    "buffer.seek(0)"
   ]
  },
  {
   "cell_type": "code",
   "execution_count": 71,
   "metadata": {},
   "outputs": [],
   "source": [
    "conn.rollback()"
   ]
  },
  {
   "cell_type": "code",
   "execution_count": 72,
   "metadata": {},
   "outputs": [],
   "source": [
    "cur.copy_from(buffer, 'profession', sep=',', null='', columns=('profession_name',))\n",
    "conn.commit()\n"
   ]
  },
  {
   "cell_type": "markdown",
   "metadata": {},
   "source": [
    "## Get profession_people"
   ]
  },
  {
   "cell_type": "code",
   "execution_count": 87,
   "metadata": {},
   "outputs": [
    {
     "data": {
      "text/html": [
       "<div>\n",
       "<style scoped>\n",
       "    .dataframe tbody tr th:only-of-type {\n",
       "        vertical-align: middle;\n",
       "    }\n",
       "\n",
       "    .dataframe tbody tr th {\n",
       "        vertical-align: top;\n",
       "    }\n",
       "\n",
       "    .dataframe thead th {\n",
       "        text-align: right;\n",
       "    }\n",
       "</style>\n",
       "<table border=\"1\" class=\"dataframe\">\n",
       "  <thead>\n",
       "    <tr style=\"text-align: right;\">\n",
       "      <th></th>\n",
       "      <th>nconst</th>\n",
       "      <th>primaryName</th>\n",
       "      <th>birthYear</th>\n",
       "      <th>deathYear</th>\n",
       "      <th>primaryProfession</th>\n",
       "      <th>knownForTitles</th>\n",
       "    </tr>\n",
       "  </thead>\n",
       "  <tbody>\n",
       "    <tr>\n",
       "      <th>0</th>\n",
       "      <td>nm0000001</td>\n",
       "      <td>Fred Astaire</td>\n",
       "      <td>1899</td>\n",
       "      <td>1987</td>\n",
       "      <td>actor</td>\n",
       "      <td>tt0072308,tt0050419,tt0027125,tt0031983</td>\n",
       "    </tr>\n",
       "    <tr>\n",
       "      <th>0</th>\n",
       "      <td>nm0000001</td>\n",
       "      <td>Fred Astaire</td>\n",
       "      <td>1899</td>\n",
       "      <td>1987</td>\n",
       "      <td>miscellaneous</td>\n",
       "      <td>tt0072308,tt0050419,tt0027125,tt0031983</td>\n",
       "    </tr>\n",
       "    <tr>\n",
       "      <th>0</th>\n",
       "      <td>nm0000001</td>\n",
       "      <td>Fred Astaire</td>\n",
       "      <td>1899</td>\n",
       "      <td>1987</td>\n",
       "      <td>producer</td>\n",
       "      <td>tt0072308,tt0050419,tt0027125,tt0031983</td>\n",
       "    </tr>\n",
       "    <tr>\n",
       "      <th>1</th>\n",
       "      <td>nm0000002</td>\n",
       "      <td>Lauren Bacall</td>\n",
       "      <td>1924</td>\n",
       "      <td>2014</td>\n",
       "      <td>actress</td>\n",
       "      <td>tt0037382,tt0075213,tt0117057,tt0038355</td>\n",
       "    </tr>\n",
       "    <tr>\n",
       "      <th>1</th>\n",
       "      <td>nm0000002</td>\n",
       "      <td>Lauren Bacall</td>\n",
       "      <td>1924</td>\n",
       "      <td>2014</td>\n",
       "      <td>soundtrack</td>\n",
       "      <td>tt0037382,tt0075213,tt0117057,tt0038355</td>\n",
       "    </tr>\n",
       "    <tr>\n",
       "      <th>...</th>\n",
       "      <td>...</td>\n",
       "      <td>...</td>\n",
       "      <td>...</td>\n",
       "      <td>...</td>\n",
       "      <td>...</td>\n",
       "      <td>...</td>\n",
       "    </tr>\n",
       "    <tr>\n",
       "      <th>635917</th>\n",
       "      <td>nm9993693</td>\n",
       "      <td>Apsara Rani</td>\n",
       "      <td>1996</td>\n",
       "      <td></td>\n",
       "      <td>actress</td>\n",
       "      <td>tt12856788,tt13847502,tt8302382,tt25385692</td>\n",
       "    </tr>\n",
       "    <tr>\n",
       "      <th>635917</th>\n",
       "      <td>nm9993693</td>\n",
       "      <td>Apsara Rani</td>\n",
       "      <td>1996</td>\n",
       "      <td></td>\n",
       "      <td>archive_footage</td>\n",
       "      <td>tt12856788,tt13847502,tt8302382,tt25385692</td>\n",
       "    </tr>\n",
       "    <tr>\n",
       "      <th>635918</th>\n",
       "      <td>nm9993694</td>\n",
       "      <td>Chinmay Mishra</td>\n",
       "      <td></td>\n",
       "      <td></td>\n",
       "      <td>actor</td>\n",
       "      <td>tt18361688,tt18687502,tt8737752,tt9083282</td>\n",
       "    </tr>\n",
       "    <tr>\n",
       "      <th>635918</th>\n",
       "      <td>nm9993694</td>\n",
       "      <td>Chinmay Mishra</td>\n",
       "      <td></td>\n",
       "      <td></td>\n",
       "      <td>director</td>\n",
       "      <td>tt18361688,tt18687502,tt8737752,tt9083282</td>\n",
       "    </tr>\n",
       "    <tr>\n",
       "      <th>635918</th>\n",
       "      <td>nm9993694</td>\n",
       "      <td>Chinmay Mishra</td>\n",
       "      <td></td>\n",
       "      <td></td>\n",
       "      <td>producer</td>\n",
       "      <td>tt18361688,tt18687502,tt8737752,tt9083282</td>\n",
       "    </tr>\n",
       "  </tbody>\n",
       "</table>\n",
       "<p>1210073 rows × 6 columns</p>\n",
       "</div>"
      ],
      "text/plain": [
       "           nconst     primaryName birthYear deathYear primaryProfession  \\\n",
       "0       nm0000001    Fred Astaire      1899      1987             actor   \n",
       "0       nm0000001    Fred Astaire      1899      1987     miscellaneous   \n",
       "0       nm0000001    Fred Astaire      1899      1987          producer   \n",
       "1       nm0000002   Lauren Bacall      1924      2014           actress   \n",
       "1       nm0000002   Lauren Bacall      1924      2014        soundtrack   \n",
       "...           ...             ...       ...       ...               ...   \n",
       "635917  nm9993693     Apsara Rani      1996                     actress   \n",
       "635917  nm9993693     Apsara Rani      1996             archive_footage   \n",
       "635918  nm9993694  Chinmay Mishra                                 actor   \n",
       "635918  nm9993694  Chinmay Mishra                              director   \n",
       "635918  nm9993694  Chinmay Mishra                              producer   \n",
       "\n",
       "                                    knownForTitles  \n",
       "0          tt0072308,tt0050419,tt0027125,tt0031983  \n",
       "0          tt0072308,tt0050419,tt0027125,tt0031983  \n",
       "0          tt0072308,tt0050419,tt0027125,tt0031983  \n",
       "1          tt0037382,tt0075213,tt0117057,tt0038355  \n",
       "1          tt0037382,tt0075213,tt0117057,tt0038355  \n",
       "...                                            ...  \n",
       "635917  tt12856788,tt13847502,tt8302382,tt25385692  \n",
       "635917  tt12856788,tt13847502,tt8302382,tt25385692  \n",
       "635918   tt18361688,tt18687502,tt8737752,tt9083282  \n",
       "635918   tt18361688,tt18687502,tt8737752,tt9083282  \n",
       "635918   tt18361688,tt18687502,tt8737752,tt9083282  \n",
       "\n",
       "[1210073 rows x 6 columns]"
      ]
     },
     "execution_count": 87,
     "metadata": {},
     "output_type": "execute_result"
    }
   ],
   "source": [
    "people_df['primaryProfession'] = people_df['primaryProfession'].str.split(\",\")\n",
    "people_df_exploded = people_df.explode('primaryProfession')\n",
    "people_df_exploded"
   ]
  },
  {
   "cell_type": "code",
   "execution_count": 100,
   "metadata": {},
   "outputs": [],
   "source": [
    "profession_df = profession_df.reset_index().rename(columns={'index':'profession_id'})"
   ]
  },
  {
   "cell_type": "code",
   "execution_count": 101,
   "metadata": {},
   "outputs": [],
   "source": [
    "people_df_exploded = people_df_exploded.rename(columns={'primaryProfession':'profession_name'})"
   ]
  },
  {
   "cell_type": "code",
   "execution_count": 102,
   "metadata": {},
   "outputs": [],
   "source": [
    "people_profession = people_df_exploded.merge(profession_df,on='profession_name', how='inner')\n"
   ]
  },
  {
   "cell_type": "code",
   "execution_count": 103,
   "metadata": {},
   "outputs": [
    {
     "data": {
      "text/html": [
       "<div>\n",
       "<style scoped>\n",
       "    .dataframe tbody tr th:only-of-type {\n",
       "        vertical-align: middle;\n",
       "    }\n",
       "\n",
       "    .dataframe tbody tr th {\n",
       "        vertical-align: top;\n",
       "    }\n",
       "\n",
       "    .dataframe thead th {\n",
       "        text-align: right;\n",
       "    }\n",
       "</style>\n",
       "<table border=\"1\" class=\"dataframe\">\n",
       "  <thead>\n",
       "    <tr style=\"text-align: right;\">\n",
       "      <th></th>\n",
       "      <th>nconst</th>\n",
       "      <th>primaryName</th>\n",
       "      <th>birthYear</th>\n",
       "      <th>deathYear</th>\n",
       "      <th>profession_name</th>\n",
       "      <th>knownForTitles</th>\n",
       "      <th>profession_id</th>\n",
       "    </tr>\n",
       "  </thead>\n",
       "  <tbody>\n",
       "    <tr>\n",
       "      <th>0</th>\n",
       "      <td>nm0000001</td>\n",
       "      <td>Fred Astaire</td>\n",
       "      <td>1899</td>\n",
       "      <td>1987</td>\n",
       "      <td>actor</td>\n",
       "      <td>tt0072308,tt0050419,tt0027125,tt0031983</td>\n",
       "      <td>11</td>\n",
       "    </tr>\n",
       "    <tr>\n",
       "      <th>1</th>\n",
       "      <td>nm0000001</td>\n",
       "      <td>Fred Astaire</td>\n",
       "      <td>1899</td>\n",
       "      <td>1987</td>\n",
       "      <td>miscellaneous</td>\n",
       "      <td>tt0072308,tt0050419,tt0027125,tt0031983</td>\n",
       "      <td>19</td>\n",
       "    </tr>\n",
       "    <tr>\n",
       "      <th>2</th>\n",
       "      <td>nm0000001</td>\n",
       "      <td>Fred Astaire</td>\n",
       "      <td>1899</td>\n",
       "      <td>1987</td>\n",
       "      <td>producer</td>\n",
       "      <td>tt0072308,tt0050419,tt0027125,tt0031983</td>\n",
       "      <td>1</td>\n",
       "    </tr>\n",
       "    <tr>\n",
       "      <th>3</th>\n",
       "      <td>nm0000002</td>\n",
       "      <td>Lauren Bacall</td>\n",
       "      <td>1924</td>\n",
       "      <td>2014</td>\n",
       "      <td>actress</td>\n",
       "      <td>tt0037382,tt0075213,tt0117057,tt0038355</td>\n",
       "      <td>30</td>\n",
       "    </tr>\n",
       "    <tr>\n",
       "      <th>4</th>\n",
       "      <td>nm0000002</td>\n",
       "      <td>Lauren Bacall</td>\n",
       "      <td>1924</td>\n",
       "      <td>2014</td>\n",
       "      <td>soundtrack</td>\n",
       "      <td>tt0037382,tt0075213,tt0117057,tt0038355</td>\n",
       "      <td>5</td>\n",
       "    </tr>\n",
       "    <tr>\n",
       "      <th>...</th>\n",
       "      <td>...</td>\n",
       "      <td>...</td>\n",
       "      <td>...</td>\n",
       "      <td>...</td>\n",
       "      <td>...</td>\n",
       "      <td>...</td>\n",
       "      <td>...</td>\n",
       "    </tr>\n",
       "    <tr>\n",
       "      <th>1169210</th>\n",
       "      <td>nm9993693</td>\n",
       "      <td>Apsara Rani</td>\n",
       "      <td>1996</td>\n",
       "      <td></td>\n",
       "      <td>actress</td>\n",
       "      <td>tt12856788,tt13847502,tt8302382,tt25385692</td>\n",
       "      <td>30</td>\n",
       "    </tr>\n",
       "    <tr>\n",
       "      <th>1169211</th>\n",
       "      <td>nm9993693</td>\n",
       "      <td>Apsara Rani</td>\n",
       "      <td>1996</td>\n",
       "      <td></td>\n",
       "      <td>archive_footage</td>\n",
       "      <td>tt12856788,tt13847502,tt8302382,tt25385692</td>\n",
       "      <td>18</td>\n",
       "    </tr>\n",
       "    <tr>\n",
       "      <th>1169212</th>\n",
       "      <td>nm9993694</td>\n",
       "      <td>Chinmay Mishra</td>\n",
       "      <td></td>\n",
       "      <td></td>\n",
       "      <td>actor</td>\n",
       "      <td>tt18361688,tt18687502,tt8737752,tt9083282</td>\n",
       "      <td>11</td>\n",
       "    </tr>\n",
       "    <tr>\n",
       "      <th>1169213</th>\n",
       "      <td>nm9993694</td>\n",
       "      <td>Chinmay Mishra</td>\n",
       "      <td></td>\n",
       "      <td></td>\n",
       "      <td>director</td>\n",
       "      <td>tt18361688,tt18687502,tt8737752,tt9083282</td>\n",
       "      <td>24</td>\n",
       "    </tr>\n",
       "    <tr>\n",
       "      <th>1169214</th>\n",
       "      <td>nm9993694</td>\n",
       "      <td>Chinmay Mishra</td>\n",
       "      <td></td>\n",
       "      <td></td>\n",
       "      <td>producer</td>\n",
       "      <td>tt18361688,tt18687502,tt8737752,tt9083282</td>\n",
       "      <td>1</td>\n",
       "    </tr>\n",
       "  </tbody>\n",
       "</table>\n",
       "<p>1169215 rows × 7 columns</p>\n",
       "</div>"
      ],
      "text/plain": [
       "            nconst     primaryName birthYear deathYear  profession_name  \\\n",
       "0        nm0000001    Fred Astaire      1899      1987            actor   \n",
       "1        nm0000001    Fred Astaire      1899      1987    miscellaneous   \n",
       "2        nm0000001    Fred Astaire      1899      1987         producer   \n",
       "3        nm0000002   Lauren Bacall      1924      2014          actress   \n",
       "4        nm0000002   Lauren Bacall      1924      2014       soundtrack   \n",
       "...            ...             ...       ...       ...              ...   \n",
       "1169210  nm9993693     Apsara Rani      1996                    actress   \n",
       "1169211  nm9993693     Apsara Rani      1996            archive_footage   \n",
       "1169212  nm9993694  Chinmay Mishra                                actor   \n",
       "1169213  nm9993694  Chinmay Mishra                             director   \n",
       "1169214  nm9993694  Chinmay Mishra                             producer   \n",
       "\n",
       "                                     knownForTitles  profession_id  \n",
       "0           tt0072308,tt0050419,tt0027125,tt0031983             11  \n",
       "1           tt0072308,tt0050419,tt0027125,tt0031983             19  \n",
       "2           tt0072308,tt0050419,tt0027125,tt0031983              1  \n",
       "3           tt0037382,tt0075213,tt0117057,tt0038355             30  \n",
       "4           tt0037382,tt0075213,tt0117057,tt0038355              5  \n",
       "...                                             ...            ...  \n",
       "1169210  tt12856788,tt13847502,tt8302382,tt25385692             30  \n",
       "1169211  tt12856788,tt13847502,tt8302382,tt25385692             18  \n",
       "1169212   tt18361688,tt18687502,tt8737752,tt9083282             11  \n",
       "1169213   tt18361688,tt18687502,tt8737752,tt9083282             24  \n",
       "1169214   tt18361688,tt18687502,tt8737752,tt9083282              1  \n",
       "\n",
       "[1169215 rows x 7 columns]"
      ]
     },
     "execution_count": 103,
     "metadata": {},
     "output_type": "execute_result"
    }
   ],
   "source": [
    "people_profession"
   ]
  },
  {
   "cell_type": "code",
   "execution_count": 104,
   "metadata": {},
   "outputs": [],
   "source": [
    "people_profession = people_profession[['profession_id', 'nconst']]"
   ]
  },
  {
   "cell_type": "code",
   "execution_count": 106,
   "metadata": {},
   "outputs": [
    {
     "data": {
      "text/plain": [
       "0"
      ]
     },
     "execution_count": 106,
     "metadata": {},
     "output_type": "execute_result"
    }
   ],
   "source": [
    "# for tv_movie relation\n",
    "buffer = io.StringIO()\n",
    "people_profession.to_csv(buffer, index=False, header=False)\n",
    "buffer.seek(0)"
   ]
  },
  {
   "cell_type": "code",
   "execution_count": 107,
   "metadata": {},
   "outputs": [],
   "source": [
    "cur.copy_from(buffer, 'profession_people', sep=',', null='')\n",
    "conn.commit()\n"
   ]
  },
  {
   "cell_type": "markdown",
   "metadata": {},
   "source": [
    "# Get famouse_work Relation"
   ]
  },
  {
   "cell_type": "code",
   "execution_count": 115,
   "metadata": {},
   "outputs": [],
   "source": [
    "people_df['knownForTitles'] = people_df['knownForTitles'].str.split(',')"
   ]
  },
  {
   "cell_type": "code",
   "execution_count": 118,
   "metadata": {},
   "outputs": [],
   "source": [
    "people_df = people_df.explode('knownForTitles')"
   ]
  },
  {
   "cell_type": "code",
   "execution_count": 121,
   "metadata": {},
   "outputs": [],
   "source": [
    "famous_work = people_df[['nconst','knownForTitles']]"
   ]
  },
  {
   "cell_type": "code",
   "execution_count": null,
   "metadata": {},
   "outputs": [],
   "source": [
    "# for actors without famous work, replace empty column with 'N/A'\n",
    "famous_work = people_df[['nconst', 'knownForTitles']].copy()\n",
    "famous_work['knownForTitles'] = famous_work['knownForTitles'].fillna('N/A')\n",
    "famous_work['knownForTitles'] = famous_work['knownForTitles'].replace(r'^\\s*$', 'N/A', regex=True)"
   ]
  },
  {
   "cell_type": "code",
   "execution_count": null,
   "metadata": {},
   "outputs": [],
   "source": [
    "# make it only contain record where knowForTitles is also in TV_Moive Relation\n",
    "title_basics_df = pd.read_csv(r\"C:\\Users\\19692\\Downloads\\CSE560-Project\\sampled_data\\TV_Movie_sampled.tsv\", sep=\"\\t\")\n",
    "tconst_set = set(title_basics_df['tconst'])\n",
    "famous_work = famous_work[famous_work['knownForTitles'].isin(tconst_set)]"
   ]
  },
  {
   "cell_type": "code",
   "execution_count": null,
   "metadata": {},
   "outputs": [],
   "source": [
    "# change order of the two columns\n",
    "famous_work = famous_work[['knownForTitles', 'nconst']]"
   ]
  },
  {
   "cell_type": "code",
   "execution_count": 149,
   "metadata": {},
   "outputs": [
    {
     "data": {
      "text/plain": [
       "0"
      ]
     },
     "execution_count": 149,
     "metadata": {},
     "output_type": "execute_result"
    }
   ],
   "source": [
    "buffer = io.StringIO()\n",
    "famous_work.to_csv(buffer, index=False, header=False)\n",
    "buffer.seek(0)"
   ]
  },
  {
   "cell_type": "code",
   "execution_count": 150,
   "metadata": {},
   "outputs": [],
   "source": [
    "conn.rollback()"
   ]
  },
  {
   "cell_type": "code",
   "execution_count": 151,
   "metadata": {},
   "outputs": [],
   "source": [
    "cur.copy_from(buffer, 'famous_work', sep=',', null='')\n",
    "conn.commit()"
   ]
  }
 ],
 "metadata": {
  "kernelspec": {
   "display_name": "machine-learning-udemy",
   "language": "python",
   "name": "python3"
  },
  "language_info": {
   "codemirror_mode": {
    "name": "ipython",
    "version": 3
   },
   "file_extension": ".py",
   "mimetype": "text/x-python",
   "name": "python",
   "nbconvert_exporter": "python",
   "pygments_lexer": "ipython3",
   "version": "3.13.1"
  }
 },
 "nbformat": 4,
 "nbformat_minor": 2
}
