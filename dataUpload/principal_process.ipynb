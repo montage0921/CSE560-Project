{
 "cells": [
  {
   "cell_type": "code",
   "execution_count": 1,
   "metadata": {},
   "outputs": [],
   "source": [
    "import pandas as pd\n",
    "import numpy as np"
   ]
  },
  {
   "cell_type": "code",
   "execution_count": 2,
   "metadata": {},
   "outputs": [
    {
     "name": "stdout",
     "output_type": "stream",
     "text": [
      "<class 'pandas.core.frame.DataFrame'>\n",
      "RangeIndex: 91762951 entries, 0 to 91762950\n",
      "Data columns (total 6 columns):\n",
      " #   Column      Dtype \n",
      "---  ------      ----- \n",
      " 0   tconst      object\n",
      " 1   ordering    int64 \n",
      " 2   nconst      object\n",
      " 3   category    object\n",
      " 4   job         object\n",
      " 5   characters  object\n",
      "dtypes: int64(1), object(5)\n",
      "memory usage: 4.1+ GB\n"
     ]
    }
   ],
   "source": [
    "people_df = pd.read_csv(r\"C:\\Users\\19692\\Downloads\\CSE560-Project\\title.principals.tsv\", sep=\"\\t\")\n",
    "people_df.info()"
   ]
  },
  {
   "cell_type": "markdown",
   "metadata": {},
   "source": [
    "## Process for Casts"
   ]
  },
  {
   "cell_type": "code",
   "execution_count": 3,
   "metadata": {},
   "outputs": [],
   "source": [
    "casts_df = people_df[people_df['characters']!='\\\\N']\n",
    "casts_df = casts_df[['tconst','nconst','characters']]"
   ]
  },
  {
   "cell_type": "code",
   "execution_count": 4,
   "metadata": {},
   "outputs": [],
   "source": [
    "# process characters column\n",
    "# [\"superman, DC\"] --> superman/DC\n",
    "def clean_characters(val):\n",
    "    if isinstance(val, str):\n",
    "        return val.strip(\"[]\").replace('\"', '').replace(\"'\", '').replace(',','/').replace(';','/')\n",
    "    return val\n",
    "\n",
    "casts_df['characters'] = casts_df['characters'].apply(clean_characters)\n"
   ]
  },
  {
   "cell_type": "code",
   "execution_count": 5,
   "metadata": {},
   "outputs": [],
   "source": [
    "# drop duplicate\n",
    "casts_df = casts_df.drop_duplicates()"
   ]
  },
  {
   "cell_type": "markdown",
   "metadata": {},
   "source": [
    "## Process for Other Professionals"
   ]
  },
  {
   "cell_type": "code",
   "execution_count": 6,
   "metadata": {},
   "outputs": [],
   "source": [
    "people_df = people_df[people_df['characters']=='\\\\N']\n",
    "people_df = people_df[['tconst','nconst','category','job']]\n"
   ]
  },
  {
   "cell_type": "code",
   "execution_count": null,
   "metadata": {},
   "outputs": [],
   "source": [
    "# if job is /N, make it be the value of category column\n",
    "people_df.loc[people_df['job'] == '\\\\N', 'job'] = people_df['category']\n"
   ]
  },
  {
   "cell_type": "code",
   "execution_count": 32,
   "metadata": {},
   "outputs": [],
   "source": [
    "# get job people\n",
    "job_people = people_df[['tconst','nconst','job']].drop_duplicates().reset_index(drop=True)\n",
    "job_people['job'] = job_people['job'].str.replace(',', '/', regex=False).str.replace(';', '/', regex=False)"
   ]
  },
  {
   "cell_type": "code",
   "execution_count": 33,
   "metadata": {},
   "outputs": [],
   "source": [
    "job_category = people_df[['job', 'category']].drop_duplicates().reset_index(drop=True)\n"
   ]
  },
  {
   "cell_type": "code",
   "execution_count": 34,
   "metadata": {},
   "outputs": [],
   "source": [
    "job_category['job'] = job_category['job'].str.replace(',', '/', regex=False).str.replace(';', '/', regex=False)\n",
    "\n"
   ]
  },
  {
   "cell_type": "markdown",
   "metadata": {},
   "source": [
    "## Connect to PostgreSQL"
   ]
  },
  {
   "cell_type": "code",
   "execution_count": 54,
   "metadata": {},
   "outputs": [],
   "source": [
    "import psycopg2\n",
    "import io\n",
    "\n",
    "conn = psycopg2.connect(\n",
    "    dbname=\"postgres\",\n",
    "    user=\"postgres.jzysaequuaturayaiczd\",\n",
    "    password=\"12345jiabaoyaogary\",\n",
    "    host=\"aws-0-us-west-1.pooler.supabase.com\",\n",
    "    port=6543\n",
    ")\n",
    "cur = conn.cursor()"
   ]
  },
  {
   "cell_type": "code",
   "execution_count": 58,
   "metadata": {},
   "outputs": [],
   "source": [
    "conn.rollback()"
   ]
  },
  {
   "cell_type": "code",
   "execution_count": 55,
   "metadata": {},
   "outputs": [],
   "source": [
    "cur.execute(\"SET statement_timeout = '600000';\")  # 10 minutes in mscur.execute(\"SET statement_timeout = 0;\")"
   ]
  },
  {
   "cell_type": "code",
   "execution_count": 47,
   "metadata": {},
   "outputs": [],
   "source": [
    "conn.close()"
   ]
  },
  {
   "cell_type": "markdown",
   "metadata": {},
   "source": [
    "## Upload Casts Relation"
   ]
  },
  {
   "cell_type": "code",
   "execution_count": null,
   "metadata": {},
   "outputs": [
    {
     "data": {
      "text/plain": [
       "\"import tempfile\\n\\nwith tempfile.NamedTemporaryFile(mode='w+', delete=False) as f:\\n    casts_df.to_csv(f.name, index=False, header=False)\\n    f.seek(0)\\n    \\n    # Then upload using COPY\\n    with open(f.name, 'r') as file_obj:\\n        cur.copy_from(file_obj, 'Cast', sep=',', null='')\\n\\nconn.commit()\\n\""
      ]
     },
     "execution_count": 23,
     "metadata": {},
     "output_type": "execute_result"
    }
   ],
   "source": [
    "\"\"\"import tempfile\n",
    "\n",
    "with tempfile.NamedTemporaryFile(mode='w+', delete=False) as f:\n",
    "    casts_df.to_csv(f.name, index=False, header=False)\n",
    "    f.seek(0)\n",
    "    \n",
    "    # Then upload using COPY\n",
    "    with open(f.name, 'r') as file_obj:\n",
    "        cur.copy_from(file_obj, 'Cast', sep=',', null='')\n",
    "\n",
    "conn.commit()\n",
    "\"\"\""
   ]
  },
  {
   "cell_type": "markdown",
   "metadata": {},
   "source": [
    "## Upload Principal"
   ]
  },
  {
   "cell_type": "code",
   "execution_count": 51,
   "metadata": {},
   "outputs": [
    {
     "data": {
      "text/plain": [
       "0"
      ]
     },
     "execution_count": 51,
     "metadata": {},
     "output_type": "execute_result"
    }
   ],
   "source": [
    "# Step 1: Create a CSV buffer from the DataFrame\n",
    "buffer = io.StringIO()\n",
    "job_people.to_csv(buffer, index=False, header=False)\n",
    "buffer.seek(0)\n",
    "\n",
    "buffer1 = io.StringIO()\n",
    "job_category.to_csv(buffer1, index=False, header=False)\n",
    "buffer1.seek(0)\n"
   ]
  },
  {
   "cell_type": "code",
   "execution_count": 60,
   "metadata": {},
   "outputs": [
    {
     "ename": "InFailedSqlTransaction",
     "evalue": "current transaction is aborted, commands ignored until end of transaction block\n",
     "output_type": "error",
     "traceback": [
      "\u001b[1;31m---------------------------------------------------------------------------\u001b[0m",
      "\u001b[1;31mInFailedSqlTransaction\u001b[0m                    Traceback (most recent call last)",
      "Cell \u001b[1;32mIn[60], line 2\u001b[0m\n\u001b[0;32m      1\u001b[0m \u001b[38;5;66;03m# upload data to job_people relation\u001b[39;00m\n\u001b[1;32m----> 2\u001b[0m \u001b[43mcur\u001b[49m\u001b[38;5;241;43m.\u001b[39;49m\u001b[43mcopy_from\u001b[49m\u001b[43m(\u001b[49m\u001b[43mbuffer\u001b[49m\u001b[43m,\u001b[49m\u001b[43m \u001b[49m\u001b[38;5;124;43m'\u001b[39;49m\u001b[38;5;124;43mjob_people\u001b[39;49m\u001b[38;5;124;43m'\u001b[39;49m\u001b[43m,\u001b[49m\u001b[43m \u001b[49m\u001b[43msep\u001b[49m\u001b[38;5;241;43m=\u001b[39;49m\u001b[38;5;124;43m'\u001b[39;49m\u001b[38;5;124;43m,\u001b[39;49m\u001b[38;5;124;43m'\u001b[39;49m\u001b[43m,\u001b[49m\u001b[43m \u001b[49m\u001b[43mnull\u001b[49m\u001b[38;5;241;43m=\u001b[39;49m\u001b[38;5;124;43m'\u001b[39;49m\u001b[38;5;124;43m'\u001b[39;49m\u001b[43m)\u001b[49m\n\u001b[0;32m      3\u001b[0m conn\u001b[38;5;241m.\u001b[39mcommit()\n",
      "\u001b[1;31mInFailedSqlTransaction\u001b[0m: current transaction is aborted, commands ignored until end of transaction block\n"
     ]
    }
   ],
   "source": [
    "# upload data to job_people relation\n",
    "cur.copy_from(buffer, 'job_people', sep=',', null='')\n",
    "conn.commit()"
   ]
  },
  {
   "cell_type": "code",
   "execution_count": null,
   "metadata": {},
   "outputs": [
    {
     "data": {
      "text/plain": [
       "47307741"
      ]
     },
     "execution_count": 28,
     "metadata": {},
     "output_type": "execute_result"
    }
   ],
   "source": []
  },
  {
   "cell_type": "code",
   "execution_count": 59,
   "metadata": {},
   "outputs": [
    {
     "ename": "ReadOnlySqlTransaction",
     "evalue": "cannot execute COPY FROM in a read-only transaction\n",
     "output_type": "error",
     "traceback": [
      "\u001b[1;31m---------------------------------------------------------------------------\u001b[0m",
      "\u001b[1;31mReadOnlySqlTransaction\u001b[0m                    Traceback (most recent call last)",
      "Cell \u001b[1;32mIn[59], line 2\u001b[0m\n\u001b[0;32m      1\u001b[0m \u001b[38;5;66;03m# upload data to job_category relation\u001b[39;00m\n\u001b[1;32m----> 2\u001b[0m \u001b[43mcur\u001b[49m\u001b[38;5;241;43m.\u001b[39;49m\u001b[43mcopy_from\u001b[49m\u001b[43m(\u001b[49m\u001b[43mbuffer1\u001b[49m\u001b[43m,\u001b[49m\u001b[43m \u001b[49m\u001b[38;5;124;43m'\u001b[39;49m\u001b[38;5;124;43mjob_category\u001b[39;49m\u001b[38;5;124;43m'\u001b[39;49m\u001b[43m,\u001b[49m\u001b[43m \u001b[49m\u001b[43msep\u001b[49m\u001b[38;5;241;43m=\u001b[39;49m\u001b[38;5;124;43m'\u001b[39;49m\u001b[38;5;124;43m,\u001b[39;49m\u001b[38;5;124;43m'\u001b[39;49m\u001b[43m,\u001b[49m\u001b[43m \u001b[49m\u001b[43mnull\u001b[49m\u001b[38;5;241;43m=\u001b[39;49m\u001b[38;5;124;43m'\u001b[39;49m\u001b[38;5;124;43m'\u001b[39;49m\u001b[43m)\u001b[49m\n\u001b[0;32m      3\u001b[0m conn\u001b[38;5;241m.\u001b[39mcommit()\n",
      "\u001b[1;31mReadOnlySqlTransaction\u001b[0m: cannot execute COPY FROM in a read-only transaction\n"
     ]
    }
   ],
   "source": [
    "# upload data to job_category relation\n",
    "cur.copy_from(buffer1, 'job_category', sep=',', null='')\n",
    "conn.commit()"
   ]
  }
 ],
 "metadata": {
  "kernelspec": {
   "display_name": "machine-learning-udemy",
   "language": "python",
   "name": "python3"
  },
  "language_info": {
   "codemirror_mode": {
    "name": "ipython",
    "version": 3
   },
   "file_extension": ".py",
   "mimetype": "text/x-python",
   "name": "python",
   "nbconvert_exporter": "python",
   "pygments_lexer": "ipython3",
   "version": "3.13.1"
  }
 },
 "nbformat": 4,
 "nbformat_minor": 2
}
