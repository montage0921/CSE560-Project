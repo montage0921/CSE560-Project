{
 "cells": [
  {
   "cell_type": "code",
   "execution_count": 45,
   "metadata": {},
   "outputs": [],
   "source": [
    "import pandas as pd\n",
    "import numpy as np"
   ]
  },
  {
   "cell_type": "code",
   "execution_count": 46,
   "metadata": {},
   "outputs": [
    {
     "name": "stderr",
     "output_type": "stream",
     "text": [
      "C:\\Users\\19692\\AppData\\Local\\Temp\\ipykernel_26416\\1709790216.py:1: DtypeWarning: Columns (4) have mixed types. Specify dtype option on import or set low_memory=False.\n",
      "  title_basics_df = pd.read_csv(r\"C:\\Users\\19692\\Downloads\\CSE560-Project\\title.basics.tsv\", sep=\"\\t\")\n"
     ]
    },
    {
     "name": "stdout",
     "output_type": "stream",
     "text": [
      "<class 'pandas.core.frame.DataFrame'>\n",
      "RangeIndex: 11558783 entries, 0 to 11558782\n",
      "Data columns (total 9 columns):\n",
      " #   Column          Dtype \n",
      "---  ------          ----- \n",
      " 0   tconst          object\n",
      " 1   titleType       object\n",
      " 2   primaryTitle    object\n",
      " 3   originalTitle   object\n",
      " 4   isAdult         object\n",
      " 5   startYear       object\n",
      " 6   endYear         object\n",
      " 7   runtimeMinutes  object\n",
      " 8   genres          object\n",
      "dtypes: object(9)\n",
      "memory usage: 793.7+ MB\n"
     ]
    }
   ],
   "source": [
    "title_basics_df = pd.read_csv(r\"C:\\Users\\19692\\Downloads\\CSE560-Project\\title.basics.tsv\", sep=\"\\t\")\n",
    "title_basics_df.info()"
   ]
  },
  {
   "cell_type": "code",
   "execution_count": 47,
   "metadata": {},
   "outputs": [],
   "source": [
    "base_ele = [\"tconst\", \"titleType\", \"primaryTitle\", \"originalTitle\", \"isAdult\", \"startYear\", \"endYear\", \"runtimeMinutes\"]\n",
    "TV_Movie = title_basics_df[base_ele]"
   ]
  },
  {
   "cell_type": "code",
   "execution_count": 48,
   "metadata": {},
   "outputs": [],
   "source": [
    "# Save the tvEpisode entries first\n",
    "Episode_Details_Origin = TV_Movie[TV_Movie[\"titleType\"] == \"tvEpisode\"]\n",
    "\n",
    "# Now drop tvEpisode entries from TV_Movie\n",
    "TV_Movie = TV_Movie[TV_Movie[\"titleType\"] != \"tvEpisode\"]\n",
    "\n",
    "# Select only relevant columns from Episode_Details_Origin\n",
    "Episode_Details = Episode_Details_Origin[[\"tconst\", \"primaryTitle\", \"originalTitle\", \"startYear\", \"runtimeMinutes\"]]\n"
   ]
  },
  {
   "cell_type": "code",
   "execution_count": 49,
   "metadata": {},
   "outputs": [
    {
     "name": "stderr",
     "output_type": "stream",
     "text": [
      "C:\\Users\\19692\\AppData\\Local\\Temp\\ipykernel_26416\\2298681884.py:8: SettingWithCopyWarning: \n",
      "A value is trying to be set on a copy of a slice from a DataFrame.\n",
      "Try using .loc[row_indexer,col_indexer] = value instead\n",
      "\n",
      "See the caveats in the documentation: https://pandas.pydata.org/pandas-docs/stable/user_guide/indexing.html#returning-a-view-versus-a-copy\n",
      "  Episode_Details['primaryTitle'] = Episode_Details['primaryTitle'].str.replace(r',','/', regex=False)\n",
      "C:\\Users\\19692\\AppData\\Local\\Temp\\ipykernel_26416\\2298681884.py:9: SettingWithCopyWarning: \n",
      "A value is trying to be set on a copy of a slice from a DataFrame.\n",
      "Try using .loc[row_indexer,col_indexer] = value instead\n",
      "\n",
      "See the caveats in the documentation: https://pandas.pydata.org/pandas-docs/stable/user_guide/indexing.html#returning-a-view-versus-a-copy\n",
      "  Episode_Details['primaryTitle'] = Episode_Details['primaryTitle'].str.replace(r';','/', regex=False)\n",
      "C:\\Users\\19692\\AppData\\Local\\Temp\\ipykernel_26416\\2298681884.py:10: SettingWithCopyWarning: \n",
      "A value is trying to be set on a copy of a slice from a DataFrame.\n",
      "Try using .loc[row_indexer,col_indexer] = value instead\n",
      "\n",
      "See the caveats in the documentation: https://pandas.pydata.org/pandas-docs/stable/user_guide/indexing.html#returning-a-view-versus-a-copy\n",
      "  Episode_Details['originalTitle'] = Episode_Details['originalTitle'].str.replace(r',','/', regex=False)\n",
      "C:\\Users\\19692\\AppData\\Local\\Temp\\ipykernel_26416\\2298681884.py:11: SettingWithCopyWarning: \n",
      "A value is trying to be set on a copy of a slice from a DataFrame.\n",
      "Try using .loc[row_indexer,col_indexer] = value instead\n",
      "\n",
      "See the caveats in the documentation: https://pandas.pydata.org/pandas-docs/stable/user_guide/indexing.html#returning-a-view-versus-a-copy\n",
      "  Episode_Details['originalTitle'] = Episode_Details['originalTitle'].str.replace(r';','/', regex=False)\n"
     ]
    }
   ],
   "source": [
    "# replace \",\" or \";\" to \"/\" in the string\n",
    "TV_Movie['primaryTitle'] = TV_Movie['primaryTitle'].str.replace(r',','/', regex=False)\n",
    "TV_Movie['primaryTitle'] = TV_Movie['primaryTitle'].str.replace(r';','/', regex=False)\n",
    "TV_Movie['originalTitle'] = TV_Movie['originalTitle'].str.replace(r',','/', regex=False)\n",
    "TV_Movie['originalTitle'] = TV_Movie['originalTitle'].str.replace(r';','/', regex=False)\n",
    "\n",
    "\n",
    "Episode_Details['primaryTitle'] = Episode_Details['primaryTitle'].str.replace(r',','/', regex=False)\n",
    "Episode_Details['primaryTitle'] = Episode_Details['primaryTitle'].str.replace(r';','/', regex=False)\n",
    "Episode_Details['originalTitle'] = Episode_Details['originalTitle'].str.replace(r',','/', regex=False)\n",
    "Episode_Details['originalTitle'] = Episode_Details['originalTitle'].str.replace(r';','/', regex=False)\n",
    "\n"
   ]
  },
  {
   "cell_type": "code",
   "execution_count": 50,
   "metadata": {},
   "outputs": [
    {
     "name": "stderr",
     "output_type": "stream",
     "text": [
      "C:\\Users\\19692\\AppData\\Local\\Temp\\ipykernel_26416\\1628807337.py:9: SettingWithCopyWarning: \n",
      "A value is trying to be set on a copy of a slice from a DataFrame.\n",
      "Try using .loc[row_indexer,col_indexer] = value instead\n",
      "\n",
      "See the caveats in the documentation: https://pandas.pydata.org/pandas-docs/stable/user_guide/indexing.html#returning-a-view-versus-a-copy\n",
      "  Episode_Details['tconst'] = Episode_Details['tconst'].replace(r'\\N','')\n",
      "C:\\Users\\19692\\AppData\\Local\\Temp\\ipykernel_26416\\1628807337.py:10: SettingWithCopyWarning: \n",
      "A value is trying to be set on a copy of a slice from a DataFrame.\n",
      "Try using .loc[row_indexer,col_indexer] = value instead\n",
      "\n",
      "See the caveats in the documentation: https://pandas.pydata.org/pandas-docs/stable/user_guide/indexing.html#returning-a-view-versus-a-copy\n",
      "  Episode_Details['primaryTitle'] = Episode_Details['primaryTitle'].replace(r'\\N','')\n",
      "C:\\Users\\19692\\AppData\\Local\\Temp\\ipykernel_26416\\1628807337.py:11: SettingWithCopyWarning: \n",
      "A value is trying to be set on a copy of a slice from a DataFrame.\n",
      "Try using .loc[row_indexer,col_indexer] = value instead\n",
      "\n",
      "See the caveats in the documentation: https://pandas.pydata.org/pandas-docs/stable/user_guide/indexing.html#returning-a-view-versus-a-copy\n",
      "  Episode_Details['startYear'] = Episode_Details['startYear'].replace(r'\\N','')\n",
      "C:\\Users\\19692\\AppData\\Local\\Temp\\ipykernel_26416\\1628807337.py:12: SettingWithCopyWarning: \n",
      "A value is trying to be set on a copy of a slice from a DataFrame.\n",
      "Try using .loc[row_indexer,col_indexer] = value instead\n",
      "\n",
      "See the caveats in the documentation: https://pandas.pydata.org/pandas-docs/stable/user_guide/indexing.html#returning-a-view-versus-a-copy\n",
      "  Episode_Details['originalTitle'] = Episode_Details['originalTitle'].replace(r'\\N','')\n",
      "C:\\Users\\19692\\AppData\\Local\\Temp\\ipykernel_26416\\1628807337.py:13: SettingWithCopyWarning: \n",
      "A value is trying to be set on a copy of a slice from a DataFrame.\n",
      "Try using .loc[row_indexer,col_indexer] = value instead\n",
      "\n",
      "See the caveats in the documentation: https://pandas.pydata.org/pandas-docs/stable/user_guide/indexing.html#returning-a-view-versus-a-copy\n",
      "  Episode_Details['runtimeMinutes'] = Episode_Details['runtimeMinutes'].replace(r'\\N','')\n"
     ]
    },
    {
     "data": {
      "text/html": [
       "<div>\n",
       "<style scoped>\n",
       "    .dataframe tbody tr th:only-of-type {\n",
       "        vertical-align: middle;\n",
       "    }\n",
       "\n",
       "    .dataframe tbody tr th {\n",
       "        vertical-align: top;\n",
       "    }\n",
       "\n",
       "    .dataframe thead th {\n",
       "        text-align: right;\n",
       "    }\n",
       "</style>\n",
       "<table border=\"1\" class=\"dataframe\">\n",
       "  <thead>\n",
       "    <tr style=\"text-align: right;\">\n",
       "      <th></th>\n",
       "      <th>tconst</th>\n",
       "      <th>titleType</th>\n",
       "      <th>primaryTitle</th>\n",
       "      <th>originalTitle</th>\n",
       "      <th>isAdult</th>\n",
       "      <th>startYear</th>\n",
       "      <th>endYear</th>\n",
       "      <th>runtimeMinutes</th>\n",
       "    </tr>\n",
       "  </thead>\n",
       "  <tbody>\n",
       "    <tr>\n",
       "      <th>0</th>\n",
       "      <td>tt0000001</td>\n",
       "      <td>short</td>\n",
       "      <td>Carmencita</td>\n",
       "      <td>Carmencita</td>\n",
       "      <td>0</td>\n",
       "      <td>1894</td>\n",
       "      <td></td>\n",
       "      <td>1</td>\n",
       "    </tr>\n",
       "    <tr>\n",
       "      <th>1</th>\n",
       "      <td>tt0000002</td>\n",
       "      <td>short</td>\n",
       "      <td>Le clown et ses chiens</td>\n",
       "      <td>Le clown et ses chiens</td>\n",
       "      <td>0</td>\n",
       "      <td>1892</td>\n",
       "      <td></td>\n",
       "      <td>5</td>\n",
       "    </tr>\n",
       "    <tr>\n",
       "      <th>2</th>\n",
       "      <td>tt0000003</td>\n",
       "      <td>short</td>\n",
       "      <td>Poor Pierrot</td>\n",
       "      <td>Pauvre Pierrot</td>\n",
       "      <td>0</td>\n",
       "      <td>1892</td>\n",
       "      <td></td>\n",
       "      <td>5</td>\n",
       "    </tr>\n",
       "    <tr>\n",
       "      <th>3</th>\n",
       "      <td>tt0000004</td>\n",
       "      <td>short</td>\n",
       "      <td>Un bon bock</td>\n",
       "      <td>Un bon bock</td>\n",
       "      <td>0</td>\n",
       "      <td>1892</td>\n",
       "      <td></td>\n",
       "      <td>12</td>\n",
       "    </tr>\n",
       "    <tr>\n",
       "      <th>4</th>\n",
       "      <td>tt0000005</td>\n",
       "      <td>short</td>\n",
       "      <td>Blacksmith Scene</td>\n",
       "      <td>Blacksmith Scene</td>\n",
       "      <td>0</td>\n",
       "      <td>1893</td>\n",
       "      <td></td>\n",
       "      <td>1</td>\n",
       "    </tr>\n",
       "    <tr>\n",
       "      <th>...</th>\n",
       "      <td>...</td>\n",
       "      <td>...</td>\n",
       "      <td>...</td>\n",
       "      <td>...</td>\n",
       "      <td>...</td>\n",
       "      <td>...</td>\n",
       "      <td>...</td>\n",
       "      <td>...</td>\n",
       "    </tr>\n",
       "    <tr>\n",
       "      <th>11558723</th>\n",
       "      <td>tt9916730</td>\n",
       "      <td>movie</td>\n",
       "      <td>6 Gunn</td>\n",
       "      <td>6 Gunn</td>\n",
       "      <td>0</td>\n",
       "      <td>2017</td>\n",
       "      <td></td>\n",
       "      <td>116</td>\n",
       "    </tr>\n",
       "    <tr>\n",
       "      <th>11558733</th>\n",
       "      <td>tt9916754</td>\n",
       "      <td>movie</td>\n",
       "      <td>Chico Albuquerque - Revelações</td>\n",
       "      <td>Chico Albuquerque - Revelações</td>\n",
       "      <td>0</td>\n",
       "      <td>2013</td>\n",
       "      <td></td>\n",
       "      <td>49</td>\n",
       "    </tr>\n",
       "    <tr>\n",
       "      <th>11558734</th>\n",
       "      <td>tt9916756</td>\n",
       "      <td>short</td>\n",
       "      <td>Pretty Pretty Black Girl</td>\n",
       "      <td>Pretty Pretty Black Girl</td>\n",
       "      <td>0</td>\n",
       "      <td>2019</td>\n",
       "      <td></td>\n",
       "      <td></td>\n",
       "    </tr>\n",
       "    <tr>\n",
       "      <th>11558738</th>\n",
       "      <td>tt9916764</td>\n",
       "      <td>short</td>\n",
       "      <td>38</td>\n",
       "      <td>38</td>\n",
       "      <td>0</td>\n",
       "      <td>2018</td>\n",
       "      <td></td>\n",
       "      <td></td>\n",
       "    </tr>\n",
       "    <tr>\n",
       "      <th>11558781</th>\n",
       "      <td>tt9916856</td>\n",
       "      <td>short</td>\n",
       "      <td>The Wind</td>\n",
       "      <td>The Wind</td>\n",
       "      <td>0</td>\n",
       "      <td>2015</td>\n",
       "      <td></td>\n",
       "      <td>27</td>\n",
       "    </tr>\n",
       "  </tbody>\n",
       "</table>\n",
       "<p>2667000 rows × 8 columns</p>\n",
       "</div>"
      ],
      "text/plain": [
       "             tconst titleType                    primaryTitle  \\\n",
       "0         tt0000001     short                      Carmencita   \n",
       "1         tt0000002     short          Le clown et ses chiens   \n",
       "2         tt0000003     short                    Poor Pierrot   \n",
       "3         tt0000004     short                     Un bon bock   \n",
       "4         tt0000005     short                Blacksmith Scene   \n",
       "...             ...       ...                             ...   \n",
       "11558723  tt9916730     movie                          6 Gunn   \n",
       "11558733  tt9916754     movie  Chico Albuquerque - Revelações   \n",
       "11558734  tt9916756     short        Pretty Pretty Black Girl   \n",
       "11558738  tt9916764     short                              38   \n",
       "11558781  tt9916856     short                        The Wind   \n",
       "\n",
       "                           originalTitle isAdult startYear endYear  \\\n",
       "0                             Carmencita       0      1894           \n",
       "1                 Le clown et ses chiens       0      1892           \n",
       "2                         Pauvre Pierrot       0      1892           \n",
       "3                            Un bon bock       0      1892           \n",
       "4                       Blacksmith Scene       0      1893           \n",
       "...                                  ...     ...       ...     ...   \n",
       "11558723                          6 Gunn       0      2017           \n",
       "11558733  Chico Albuquerque - Revelações       0      2013           \n",
       "11558734        Pretty Pretty Black Girl       0      2019           \n",
       "11558738                              38       0      2018           \n",
       "11558781                        The Wind       0      2015           \n",
       "\n",
       "         runtimeMinutes  \n",
       "0                     1  \n",
       "1                     5  \n",
       "2                     5  \n",
       "3                    12  \n",
       "4                     1  \n",
       "...                 ...  \n",
       "11558723            116  \n",
       "11558733             49  \n",
       "11558734                 \n",
       "11558738                 \n",
       "11558781             27  \n",
       "\n",
       "[2667000 rows x 8 columns]"
      ]
     },
     "execution_count": 50,
     "metadata": {},
     "output_type": "execute_result"
    }
   ],
   "source": [
    "# replace \\N to ''\n",
    "TV_Movie['tconst'] = TV_Movie['tconst'].replace(r'\\N','')\n",
    "TV_Movie['titleType'] = TV_Movie['titleType'].replace(r'\\N','')\n",
    "TV_Movie['primaryTitle'] = TV_Movie['primaryTitle'].replace(r'\\N','')\n",
    "TV_Movie['startYear'] = TV_Movie['startYear'].replace(r'\\N','')\n",
    "TV_Movie['endYear'] = TV_Movie['endYear'].replace(r'\\N','')\n",
    "TV_Movie['runtimeMinutes'] = TV_Movie['runtimeMinutes'].replace(r'\\N','')\n",
    "\n",
    "Episode_Details['tconst'] = Episode_Details['tconst'].replace(r'\\N','')\n",
    "Episode_Details['primaryTitle'] = Episode_Details['primaryTitle'].replace(r'\\N','')\n",
    "Episode_Details['startYear'] = Episode_Details['startYear'].replace(r'\\N','')\n",
    "Episode_Details['originalTitle'] = Episode_Details['originalTitle'].replace(r'\\N','')\n",
    "Episode_Details['runtimeMinutes'] = Episode_Details['runtimeMinutes'].replace(r'\\N','')\n",
    "TV_Movie"
   ]
  },
  {
   "cell_type": "code",
   "execution_count": 51,
   "metadata": {},
   "outputs": [],
   "source": [
    "# delete data rows where \"tconst\" or \"primaryTitle\" is None based on the constraint.\n",
    "TV_Movie[[\"tconst\", \"primaryTitle\"]].dropna()\n",
    "TV_Movie = TV_Movie[TV_Movie[\"primaryTitle\"].isna()==False]\n",
    "\n",
    "Episode_Details[[\"tconst\", \"primaryTitle\"]].dropna()\n",
    "Episode_Details = Episode_Details[Episode_Details[\"primaryTitle\"].isna()==False]"
   ]
  },
  {
   "cell_type": "code",
   "execution_count": 67,
   "metadata": {},
   "outputs": [],
   "source": [
    "# for a few records, the runtimeMinutes columns shows a string (e.g. \"reality-tv\", \"talk.show\") instead of a number\n",
    "# we decide to remove it\n",
    "Episode_Details = Episode_Details[Episode_Details['runtimeMinutes'].str.isdigit()]"
   ]
  },
  {
   "cell_type": "code",
   "execution_count": 68,
   "metadata": {},
   "outputs": [
    {
     "data": {
      "text/html": [
       "<div>\n",
       "<style scoped>\n",
       "    .dataframe tbody tr th:only-of-type {\n",
       "        vertical-align: middle;\n",
       "    }\n",
       "\n",
       "    .dataframe tbody tr th {\n",
       "        vertical-align: top;\n",
       "    }\n",
       "\n",
       "    .dataframe thead th {\n",
       "        text-align: right;\n",
       "    }\n",
       "</style>\n",
       "<table border=\"1\" class=\"dataframe\">\n",
       "  <thead>\n",
       "    <tr style=\"text-align: right;\">\n",
       "      <th></th>\n",
       "      <th>tconst</th>\n",
       "      <th>primaryTitle</th>\n",
       "      <th>originalTitle</th>\n",
       "      <th>startYear</th>\n",
       "      <th>runtimeMinutes</th>\n",
       "    </tr>\n",
       "  </thead>\n",
       "  <tbody>\n",
       "    <tr>\n",
       "      <th>30892</th>\n",
       "      <td>tt0031458</td>\n",
       "      <td>El huésped del sevillano</td>\n",
       "      <td>El huésped del sevillano</td>\n",
       "      <td>1970</td>\n",
       "      <td>86</td>\n",
       "    </tr>\n",
       "    <tr>\n",
       "      <th>41211</th>\n",
       "      <td>tt0041951</td>\n",
       "      <td>The Tenderfeet</td>\n",
       "      <td>The Tenderfeet</td>\n",
       "      <td>1949</td>\n",
       "      <td>30</td>\n",
       "    </tr>\n",
       "    <tr>\n",
       "      <th>42059</th>\n",
       "      <td>tt0042816</td>\n",
       "      <td>Othello</td>\n",
       "      <td>Othello</td>\n",
       "      <td>1950</td>\n",
       "      <td>143</td>\n",
       "    </tr>\n",
       "    <tr>\n",
       "      <th>42131</th>\n",
       "      <td>tt0042889</td>\n",
       "      <td>The Tragedy of King Richard II/II</td>\n",
       "      <td>The Tragedy of King Richard II/II</td>\n",
       "      <td>1950</td>\n",
       "      <td>145</td>\n",
       "    </tr>\n",
       "    <tr>\n",
       "      <th>42655</th>\n",
       "      <td>tt0043426</td>\n",
       "      <td>Coriolanus</td>\n",
       "      <td>Coriolanus</td>\n",
       "      <td>1951</td>\n",
       "      <td>60</td>\n",
       "    </tr>\n",
       "  </tbody>\n",
       "</table>\n",
       "</div>"
      ],
      "text/plain": [
       "          tconst                       primaryTitle  \\\n",
       "30892  tt0031458           El huésped del sevillano   \n",
       "41211  tt0041951                     The Tenderfeet   \n",
       "42059  tt0042816                            Othello   \n",
       "42131  tt0042889  The Tragedy of King Richard II/II   \n",
       "42655  tt0043426                         Coriolanus   \n",
       "\n",
       "                           originalTitle startYear runtimeMinutes  \n",
       "30892           El huésped del sevillano      1970             86  \n",
       "41211                     The Tenderfeet      1949             30  \n",
       "42059                            Othello      1950            143  \n",
       "42131  The Tragedy of King Richard II/II      1950            145  \n",
       "42655                         Coriolanus      1951             60  "
      ]
     },
     "execution_count": 68,
     "metadata": {},
     "output_type": "execute_result"
    }
   ],
   "source": [
    "Episode_Details.head()"
   ]
  },
  {
   "cell_type": "code",
   "execution_count": 69,
   "metadata": {},
   "outputs": [],
   "source": [
    "import psycopg2\n",
    "import io"
   ]
  },
  {
   "cell_type": "code",
   "execution_count": 70,
   "metadata": {},
   "outputs": [],
   "source": [
    "conn = psycopg2.connect(\n",
    "    dbname=\"postgres\",\n",
    "    user=\"postgres.jzysaequuaturayaiczd\",\n",
    "    password=\"12345jiabaoyaogary\",\n",
    "    host=\"aws-0-us-west-1.pooler.supabase.com\",\n",
    "    port=6543\n",
    ")\n",
    "cur = conn.cursor()"
   ]
  },
  {
   "cell_type": "markdown",
   "metadata": {},
   "source": [
    "## TV Movie Relation"
   ]
  },
  {
   "cell_type": "code",
   "execution_count": 15,
   "metadata": {},
   "outputs": [
    {
     "data": {
      "text/plain": [
       "0"
      ]
     },
     "execution_count": 15,
     "metadata": {},
     "output_type": "execute_result"
    }
   ],
   "source": [
    "\n",
    "\n",
    "# for tv_movie relation\n",
    "buffer = io.StringIO()\n",
    "TV_Movie.to_csv(buffer, index=False, header=False)\n",
    "buffer.seek(0)\n"
   ]
  },
  {
   "cell_type": "code",
   "execution_count": 63,
   "metadata": {},
   "outputs": [],
   "source": [
    "conn.rollback()"
   ]
  },
  {
   "cell_type": "code",
   "execution_count": 17,
   "metadata": {},
   "outputs": [
    {
     "ename": "KeyboardInterrupt",
     "evalue": "",
     "output_type": "error",
     "traceback": [
      "\u001b[1;31m---------------------------------------------------------------------------\u001b[0m",
      "\u001b[1;31mKeyboardInterrupt\u001b[0m                         Traceback (most recent call last)",
      "File \u001b[1;32mc:\\Users\\19692\\anaconda3\\envs\\machine-learning-udemy\\Lib\\encodings\\utf_8.py:15\u001b[0m, in \u001b[0;36mdecode\u001b[1;34m(input, errors)\u001b[0m\n\u001b[0;32m     11\u001b[0m \u001b[38;5;66;03m### Codec APIs\u001b[39;00m\n\u001b[0;32m     13\u001b[0m encode \u001b[38;5;241m=\u001b[39m codecs\u001b[38;5;241m.\u001b[39mutf_8_encode\n\u001b[1;32m---> 15\u001b[0m \u001b[38;5;28;01mdef\u001b[39;00m \u001b[38;5;21mdecode\u001b[39m(\u001b[38;5;28minput\u001b[39m, errors\u001b[38;5;241m=\u001b[39m\u001b[38;5;124m'\u001b[39m\u001b[38;5;124mstrict\u001b[39m\u001b[38;5;124m'\u001b[39m):\n\u001b[0;32m     16\u001b[0m     \u001b[38;5;28;01mreturn\u001b[39;00m codecs\u001b[38;5;241m.\u001b[39mutf_8_decode(\u001b[38;5;28minput\u001b[39m, errors, \u001b[38;5;28;01mTrue\u001b[39;00m)\n\u001b[0;32m     18\u001b[0m \u001b[38;5;28;01mclass\u001b[39;00m \u001b[38;5;21;01mIncrementalEncoder\u001b[39;00m(codecs\u001b[38;5;241m.\u001b[39mIncrementalEncoder):\n",
      "\u001b[1;31mKeyboardInterrupt\u001b[0m: "
     ]
    },
    {
     "ename": "UniqueViolation",
     "evalue": "duplicate key value violates unique constraint \"tv_movie_pkey\"\nDETAIL:  Key (tconst)=(tt0000001) already exists.\nCONTEXT:  COPY tv_movie, line 1\n",
     "output_type": "error",
     "traceback": [
      "\u001b[1;31m---------------------------------------------------------------------------\u001b[0m",
      "\u001b[1;31mUniqueViolation\u001b[0m                           Traceback (most recent call last)",
      "Cell \u001b[1;32mIn[17], line 2\u001b[0m\n\u001b[0;32m      1\u001b[0m \u001b[38;5;66;03m# upload data to tv_movie\u001b[39;00m\n\u001b[1;32m----> 2\u001b[0m \u001b[43mcur\u001b[49m\u001b[38;5;241;43m.\u001b[39;49m\u001b[43mcopy_from\u001b[49m\u001b[43m(\u001b[49m\u001b[43mbuffer\u001b[49m\u001b[43m,\u001b[49m\u001b[43m \u001b[49m\u001b[38;5;124;43m'\u001b[39;49m\u001b[38;5;124;43mtv_movie\u001b[39;49m\u001b[38;5;124;43m'\u001b[39;49m\u001b[43m,\u001b[49m\u001b[43m \u001b[49m\u001b[43msep\u001b[49m\u001b[38;5;241;43m=\u001b[39;49m\u001b[38;5;124;43m'\u001b[39;49m\u001b[38;5;124;43m,\u001b[39;49m\u001b[38;5;124;43m'\u001b[39;49m\u001b[43m,\u001b[49m\u001b[43m \u001b[49m\u001b[43mnull\u001b[49m\u001b[38;5;241;43m=\u001b[39;49m\u001b[38;5;124;43m'\u001b[39;49m\u001b[38;5;124;43m'\u001b[39;49m\u001b[43m)\u001b[49m\n\u001b[0;32m      3\u001b[0m conn\u001b[38;5;241m.\u001b[39mcommit()\n",
      "\u001b[1;31mUniqueViolation\u001b[0m: duplicate key value violates unique constraint \"tv_movie_pkey\"\nDETAIL:  Key (tconst)=(tt0000001) already exists.\nCONTEXT:  COPY tv_movie, line 1\n"
     ]
    }
   ],
   "source": [
    "\n",
    "# upload data to tv_movie\n",
    "cur.copy_from(buffer, 'tv_movie', sep=',', null='')\n",
    "conn.commit()"
   ]
  },
  {
   "cell_type": "markdown",
   "metadata": {},
   "source": [
    "## Episode Details"
   ]
  },
  {
   "cell_type": "code",
   "execution_count": 71,
   "metadata": {},
   "outputs": [
    {
     "data": {
      "text/plain": [
       "0"
      ]
     },
     "execution_count": 71,
     "metadata": {},
     "output_type": "execute_result"
    }
   ],
   "source": [
    "# for tv_movie relation\n",
    "buffer = io.StringIO()\n",
    "Episode_Details.to_csv(buffer, index=False, header=False)\n",
    "buffer.seek(0)"
   ]
  },
  {
   "cell_type": "code",
   "execution_count": 72,
   "metadata": {},
   "outputs": [],
   "source": [
    "conn.rollback()"
   ]
  },
  {
   "cell_type": "code",
   "execution_count": 73,
   "metadata": {},
   "outputs": [],
   "source": [
    "# upload data to tv_movie\n",
    "cur.copy_from(buffer, 'episode_details', sep=',', null='')\n",
    "conn.commit()"
   ]
  },
  {
   "cell_type": "code",
   "execution_count": null,
   "metadata": {},
   "outputs": [
    {
     "data": {
      "text/plain": [
       "2111180"
      ]
     },
     "execution_count": 74,
     "metadata": {},
     "output_type": "execute_result"
    }
   ],
   "source": []
  }
 ],
 "metadata": {
  "kernelspec": {
   "display_name": "machine-learning-udemy",
   "language": "python",
   "name": "python3"
  },
  "language_info": {
   "codemirror_mode": {
    "name": "ipython",
    "version": 3
   },
   "file_extension": ".py",
   "mimetype": "text/x-python",
   "name": "python",
   "nbconvert_exporter": "python",
   "pygments_lexer": "ipython3",
   "version": "3.13.1"
  }
 },
 "nbformat": 4,
 "nbformat_minor": 2
}
