{
 "cells": [
  {
   "cell_type": "code",
   "execution_count": 2,
   "metadata": {},
   "outputs": [],
   "source": [
    "import pandas as pd"
   ]
  },
  {
   "cell_type": "code",
   "execution_count": 3,
   "metadata": {},
   "outputs": [
    {
     "name": "stderr",
     "output_type": "stream",
     "text": [
      "C:\\Users\\19692\\AppData\\Local\\Temp\\ipykernel_13544\\1573819231.py:1: DtypeWarning: Columns (4) have mixed types. Specify dtype option on import or set low_memory=False.\n",
      "  title_basic_df = pd.read_csv(r\"C:\\Users\\19692\\Downloads\\CSE560-Project\\original_imdb_data\\title.basics.tsv\",sep='\\t')\n"
     ]
    }
   ],
   "source": [
    "title_basic_df = pd.read_csv(r\"C:\\Users\\19692\\Downloads\\CSE560-Project\\original_imdb_data\\title.basics.tsv\",sep='\\t')"
   ]
  },
  {
   "cell_type": "code",
   "execution_count": 24,
   "metadata": {},
   "outputs": [],
   "source": [
    "# only choose tv series and movies\n",
    "TV_Movie = title_basic_df[title_basic_df['titleType'].isin(['movie', 'tvSeries', 'tvMovie', 'tvMiniSeries'])]\n"
   ]
  },
  {
   "cell_type": "code",
   "execution_count": 68,
   "metadata": {},
   "outputs": [
    {
     "data": {
      "text/plain": [
       "titleType\n",
       "movie           710852\n",
       "tvSeries        279282\n",
       "tvMovie         150426\n",
       "tvMiniSeries     60778\n",
       "Name: count, dtype: int64"
      ]
     },
     "execution_count": 68,
     "metadata": {},
     "output_type": "execute_result"
    }
   ],
   "source": [
    "TV_Movie['titleType'].value_counts()"
   ]
  },
  {
   "cell_type": "code",
   "execution_count": 69,
   "metadata": {},
   "outputs": [],
   "source": [
    "# randomly sampled 10% from all tv and movie records to reduce the size of our database\n",
    "sampled = TV_Movie.sample(frac=0.1, random_state=42)\n",
    "tconst_set = set(sampled['tconst'])"
   ]
  },
  {
   "cell_type": "code",
   "execution_count": 71,
   "metadata": {},
   "outputs": [],
   "source": [
    "# save sampled tv_movie basic info to a csv\n",
    "sampled.to_csv(\"TV_Movie_sampled.tsv\", sep='\\t', index=False)\n"
   ]
  },
  {
   "cell_type": "markdown",
   "metadata": {},
   "source": [
    "## sample title.akas.tsv"
   ]
  },
  {
   "cell_type": "code",
   "execution_count": 26,
   "metadata": {},
   "outputs": [],
   "source": [
    "title_alternative_df = pd.read_csv(r\"C:\\Users\\19692\\Downloads\\CSE560-Project\\original_imdb_data\\title.akas.tsv\",sep='\\t')"
   ]
  },
  {
   "cell_type": "code",
   "execution_count": 30,
   "metadata": {},
   "outputs": [],
   "source": [
    "sampled_title_alternative = title_alternative_df[title_alternative_df['titleId'].isin(tconst_set)]"
   ]
  },
  {
   "cell_type": "code",
   "execution_count": 36,
   "metadata": {},
   "outputs": [],
   "source": [
    "sampled_title_alternative.to_csv(\"Title_Aliases_sampled.tsv\", sep='\\t', index=False)\n"
   ]
  },
  {
   "cell_type": "markdown",
   "metadata": {},
   "source": [
    "## sample title.episode"
   ]
  },
  {
   "cell_type": "code",
   "execution_count": 37,
   "metadata": {},
   "outputs": [],
   "source": [
    "episode_df = pd.read_csv(r\"C:\\Users\\19692\\Downloads\\CSE560-Project\\original_imdb_data\\title.episode.tsv\",sep='\\t')"
   ]
  },
  {
   "cell_type": "code",
   "execution_count": 40,
   "metadata": {},
   "outputs": [
    {
     "data": {
      "text/html": [
       "<div>\n",
       "<style scoped>\n",
       "    .dataframe tbody tr th:only-of-type {\n",
       "        vertical-align: middle;\n",
       "    }\n",
       "\n",
       "    .dataframe tbody tr th {\n",
       "        vertical-align: top;\n",
       "    }\n",
       "\n",
       "    .dataframe thead th {\n",
       "        text-align: right;\n",
       "    }\n",
       "</style>\n",
       "<table border=\"1\" class=\"dataframe\">\n",
       "  <thead>\n",
       "    <tr style=\"text-align: right;\">\n",
       "      <th></th>\n",
       "      <th>tconst</th>\n",
       "      <th>parentTconst</th>\n",
       "      <th>seasonNumber</th>\n",
       "      <th>episodeNumber</th>\n",
       "    </tr>\n",
       "  </thead>\n",
       "  <tbody>\n",
       "    <tr>\n",
       "      <th>0</th>\n",
       "      <td>tt0031458</td>\n",
       "      <td>tt32857063</td>\n",
       "      <td>\\N</td>\n",
       "      <td>\\N</td>\n",
       "    </tr>\n",
       "    <tr>\n",
       "      <th>1</th>\n",
       "      <td>tt0041951</td>\n",
       "      <td>tt0041038</td>\n",
       "      <td>1</td>\n",
       "      <td>9</td>\n",
       "    </tr>\n",
       "    <tr>\n",
       "      <th>2</th>\n",
       "      <td>tt0042816</td>\n",
       "      <td>tt0989125</td>\n",
       "      <td>1</td>\n",
       "      <td>17</td>\n",
       "    </tr>\n",
       "    <tr>\n",
       "      <th>3</th>\n",
       "      <td>tt0042889</td>\n",
       "      <td>tt0989125</td>\n",
       "      <td>\\N</td>\n",
       "      <td>\\N</td>\n",
       "    </tr>\n",
       "    <tr>\n",
       "      <th>4</th>\n",
       "      <td>tt0043426</td>\n",
       "      <td>tt0040051</td>\n",
       "      <td>3</td>\n",
       "      <td>42</td>\n",
       "    </tr>\n",
       "    <tr>\n",
       "      <th>...</th>\n",
       "      <td>...</td>\n",
       "      <td>...</td>\n",
       "      <td>...</td>\n",
       "      <td>...</td>\n",
       "    </tr>\n",
       "    <tr>\n",
       "      <th>8891778</th>\n",
       "      <td>tt9916846</td>\n",
       "      <td>tt1289683</td>\n",
       "      <td>3</td>\n",
       "      <td>18</td>\n",
       "    </tr>\n",
       "    <tr>\n",
       "      <th>8891779</th>\n",
       "      <td>tt9916848</td>\n",
       "      <td>tt1289683</td>\n",
       "      <td>3</td>\n",
       "      <td>17</td>\n",
       "    </tr>\n",
       "    <tr>\n",
       "      <th>8891780</th>\n",
       "      <td>tt9916850</td>\n",
       "      <td>tt1289683</td>\n",
       "      <td>3</td>\n",
       "      <td>19</td>\n",
       "    </tr>\n",
       "    <tr>\n",
       "      <th>8891781</th>\n",
       "      <td>tt9916852</td>\n",
       "      <td>tt1289683</td>\n",
       "      <td>3</td>\n",
       "      <td>20</td>\n",
       "    </tr>\n",
       "    <tr>\n",
       "      <th>8891782</th>\n",
       "      <td>tt9916880</td>\n",
       "      <td>tt0985991</td>\n",
       "      <td>4</td>\n",
       "      <td>2</td>\n",
       "    </tr>\n",
       "  </tbody>\n",
       "</table>\n",
       "<p>8891783 rows × 4 columns</p>\n",
       "</div>"
      ],
      "text/plain": [
       "            tconst parentTconst seasonNumber episodeNumber\n",
       "0        tt0031458   tt32857063           \\N            \\N\n",
       "1        tt0041951    tt0041038            1             9\n",
       "2        tt0042816    tt0989125            1            17\n",
       "3        tt0042889    tt0989125           \\N            \\N\n",
       "4        tt0043426    tt0040051            3            42\n",
       "...            ...          ...          ...           ...\n",
       "8891778  tt9916846    tt1289683            3            18\n",
       "8891779  tt9916848    tt1289683            3            17\n",
       "8891780  tt9916850    tt1289683            3            19\n",
       "8891781  tt9916852    tt1289683            3            20\n",
       "8891782  tt9916880    tt0985991            4             2\n",
       "\n",
       "[8891783 rows x 4 columns]"
      ]
     },
     "execution_count": 40,
     "metadata": {},
     "output_type": "execute_result"
    }
   ],
   "source": [
    "episode_df"
   ]
  },
  {
   "cell_type": "code",
   "execution_count": 41,
   "metadata": {},
   "outputs": [],
   "source": [
    "sampled_episode = episode_df[episode_df['parentTconst'].isin(tconst_set)]"
   ]
  },
  {
   "cell_type": "code",
   "execution_count": 44,
   "metadata": {},
   "outputs": [],
   "source": [
    "sampled_episode.to_csv(\"episode_sampled.tsv\", sep='\\t', index=False)\n"
   ]
  },
  {
   "cell_type": "markdown",
   "metadata": {},
   "source": [
    "## Get TV Series's Episode Basic Info tsv"
   ]
  },
  {
   "cell_type": "code",
   "execution_count": 50,
   "metadata": {},
   "outputs": [
    {
     "data": {
      "text/plain": [
       "881413"
      ]
     },
     "execution_count": 50,
     "metadata": {},
     "output_type": "execute_result"
    }
   ],
   "source": [
    "episode_set = set(sampled_episode['tconst'])"
   ]
  },
  {
   "cell_type": "code",
   "execution_count": 51,
   "metadata": {},
   "outputs": [],
   "source": [
    "episode_basic = title_basic_df[title_basic_df['tconst'].isin(episode_set)]"
   ]
  },
  {
   "cell_type": "code",
   "execution_count": 53,
   "metadata": {},
   "outputs": [],
   "source": [
    "episode_basic = episode_basic[['tconst','primaryTitle','originalTitle','startYear','runtimeMinutes']]"
   ]
  },
  {
   "cell_type": "code",
   "execution_count": 55,
   "metadata": {},
   "outputs": [],
   "source": [
    "episode_basic.to_csv('epiosde_basic_sampled.tsv', sep='\\t', index=False)"
   ]
  },
  {
   "cell_type": "markdown",
   "metadata": {},
   "source": [
    "## sample principals.tsv"
   ]
  },
  {
   "cell_type": "code",
   "execution_count": 56,
   "metadata": {},
   "outputs": [],
   "source": [
    "principal_df = pd.read_csv(r\"C:\\Users\\19692\\Downloads\\CSE560-Project\\original_imdb_data\\title.principals.tsv\",sep='\\t')"
   ]
  },
  {
   "cell_type": "code",
   "execution_count": 59,
   "metadata": {},
   "outputs": [],
   "source": [
    "principal_sampled = principal_df[principal_df['tconst'].isin(tconst_set)]"
   ]
  },
  {
   "cell_type": "code",
   "execution_count": 62,
   "metadata": {},
   "outputs": [],
   "source": [
    "principal_sampled.to_csv('principal_sampled.tsv',sep='\\t',index=False)"
   ]
  },
  {
   "cell_type": "markdown",
   "metadata": {},
   "source": [
    "## Sample Ratings"
   ]
  },
  {
   "cell_type": "code",
   "execution_count": 72,
   "metadata": {},
   "outputs": [],
   "source": [
    "ratings_df = pd.read_csv(r\"C:\\Users\\19692\\Downloads\\CSE560-Project\\original_imdb_data\\title.ratings.tsv\",sep='\\t')"
   ]
  },
  {
   "cell_type": "code",
   "execution_count": 74,
   "metadata": {},
   "outputs": [],
   "source": [
    "ratings_sampled = ratings_df[ratings_df['tconst'].isin(tconst_set)]\n",
    "ratings_sampled.to_csv('ratings_sampled.tsv',sep='\\t',index=False)"
   ]
  },
  {
   "cell_type": "markdown",
   "metadata": {},
   "source": [
    "## Sample name.basics.tsv"
   ]
  },
  {
   "cell_type": "code",
   "execution_count": 3,
   "metadata": {},
   "outputs": [],
   "source": [
    "people_df = pd.read_csv(r\"C:\\Users\\19692\\Downloads\\CSE560-Project\\original_imdb_data\\name.basics.tsv\",sep='\\t')"
   ]
  },
  {
   "cell_type": "code",
   "execution_count": 4,
   "metadata": {},
   "outputs": [
    {
     "data": {
      "text/plain": [
       "14299754"
      ]
     },
     "execution_count": 4,
     "metadata": {},
     "output_type": "execute_result"
    }
   ],
   "source": [
    "len(people_df)"
   ]
  },
  {
   "cell_type": "code",
   "execution_count": 78,
   "metadata": {},
   "outputs": [],
   "source": [
    "nconst_set = set(principal_sampled['nconst'])"
   ]
  },
  {
   "cell_type": "code",
   "execution_count": 85,
   "metadata": {},
   "outputs": [],
   "source": [
    "people_sampled = people_df[people_df['nconst'].isin(nconst_set)]"
   ]
  },
  {
   "cell_type": "code",
   "execution_count": 84,
   "metadata": {},
   "outputs": [],
   "source": [
    "people_sampled.to_csv('people_sampled.tsv',sep='\\t',index=False)"
   ]
  }
 ],
 "metadata": {
  "kernelspec": {
   "display_name": "machine-learning-udemy",
   "language": "python",
   "name": "python3"
  },
  "language_info": {
   "codemirror_mode": {
    "name": "ipython",
    "version": 3
   },
   "file_extension": ".py",
   "mimetype": "text/x-python",
   "name": "python",
   "nbconvert_exporter": "python",
   "pygments_lexer": "ipython3",
   "version": "3.13.1"
  }
 },
 "nbformat": 4,
 "nbformat_minor": 2
}
