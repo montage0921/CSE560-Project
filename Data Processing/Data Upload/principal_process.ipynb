{
 "cells": [
  {
   "cell_type": "code",
   "execution_count": 203,
   "metadata": {},
   "outputs": [],
   "source": [
    "import pandas as pd\n",
    "import numpy as np"
   ]
  },
  {
   "cell_type": "code",
   "execution_count": 229,
   "metadata": {},
   "outputs": [
    {
     "name": "stdout",
     "output_type": "stream",
     "text": [
      "<class 'pandas.core.frame.DataFrame'>\n",
      "RangeIndex: 1200453 entries, 0 to 1200452\n",
      "Data columns (total 6 columns):\n",
      " #   Column      Non-Null Count    Dtype \n",
      "---  ------      --------------    ----- \n",
      " 0   tconst      1200453 non-null  object\n",
      " 1   ordering    1200453 non-null  int64 \n",
      " 2   nconst      1200453 non-null  object\n",
      " 3   category    1200453 non-null  object\n",
      " 4   job         1200453 non-null  object\n",
      " 5   characters  1200453 non-null  object\n",
      "dtypes: int64(1), object(5)\n",
      "memory usage: 55.0+ MB\n"
     ]
    }
   ],
   "source": [
    "people_df = pd.read_csv(r\"C:\\Users\\19692\\Downloads\\CSE560-Project\\sampled_data\\principal_sampled.tsv\", sep=\"\\t\")\n",
    "people_df.info()"
   ]
  },
  {
   "cell_type": "code",
   "execution_count": 230,
   "metadata": {},
   "outputs": [],
   "source": [
    "people_df1 = pd.read_csv(r\"C:\\Users\\19692\\Downloads\\CSE560-Project\\sampled_data\\people_sampled.tsv\", sep=\"\\t\")\n",
    "# drop na rows for not null columns\n",
    "people_df1[[\"nconst\", \"primaryName\",\"primaryProfession\"]].dropna()\n",
    "people_df1 = people_df1[people_df1[\"primaryName\"].isna()==False]\n",
    "people_df1 = people_df1[people_df1[\"primaryProfession\"].isna()==False]\n",
    "nconst_set = set(people_df1['nconst'])"
   ]
  },
  {
   "cell_type": "code",
   "execution_count": 231,
   "metadata": {},
   "outputs": [],
   "source": [
    "people_df = people_df[people_df['nconst'].isin(nconst_set)]"
   ]
  },
  {
   "cell_type": "markdown",
   "metadata": {},
   "source": [
    "## Process for Casts"
   ]
  },
  {
   "cell_type": "code",
   "execution_count": 241,
   "metadata": {},
   "outputs": [],
   "source": [
    "casts_df = people_df[people_df['characters']!='\\\\N']\n",
    "casts_df = casts_df[['tconst','nconst','characters']]"
   ]
  },
  {
   "cell_type": "code",
   "execution_count": 242,
   "metadata": {},
   "outputs": [],
   "source": [
    "# process characters column\n",
    "# [\"superman, DC\"] --> superman/DC\n",
    "def clean_characters(val):\n",
    "    if isinstance(val, str):\n",
    "        return val.strip(\"[]\").replace('\"', '').replace(\"'\", '').replace(',', '/').replace(';', '/').replace('\\n', '\\\\n').strip()\n",
    "    return val\n",
    "\n",
    "casts_df['characters'] = casts_df['characters'].apply(clean_characters)\n"
   ]
  },
  {
   "cell_type": "code",
   "execution_count": 243,
   "metadata": {},
   "outputs": [],
   "source": [
    "# drop duplicate\n",
    "casts_df = casts_df.drop_duplicates()"
   ]
  },
  {
   "cell_type": "markdown",
   "metadata": {},
   "source": [
    "## Process for Other Professionals"
   ]
  },
  {
   "cell_type": "code",
   "execution_count": 212,
   "metadata": {},
   "outputs": [],
   "source": [
    "crew_df = people_df[people_df['characters']=='\\\\N']\n",
    "crew_df = crew_df[['tconst','nconst','job','category']]\n"
   ]
  },
  {
   "cell_type": "code",
   "execution_count": 213,
   "metadata": {},
   "outputs": [],
   "source": [
    "# get job people\n",
    "crew_df[['tconst','nconst','job','category']].drop_duplicates().reset_index(drop=True)\n",
    "crew_df['job'] = crew_df['job'].str.replace(',', '/', regex=False).str.replace(';', '/', regex=False)\n",
    "crew_df['category'] = crew_df['category'].str.replace(',', '/', regex=False).str.replace(';', '/', regex=False)"
   ]
  },
  {
   "cell_type": "code",
   "execution_count": 214,
   "metadata": {},
   "outputs": [],
   "source": [
    "crew_df['job'] = crew_df['job'].replace(r'\\N','')\n",
    "crew_df['category'] = crew_df['category'].replace(r'\\N','')"
   ]
  },
  {
   "cell_type": "code",
   "execution_count": 215,
   "metadata": {},
   "outputs": [],
   "source": [
    "crew_df = crew_df[\n",
    "    crew_df['job'].notna() &\n",
    "    (crew_df['job'].str.strip() != '')\n",
    "]\n"
   ]
  },
  {
   "cell_type": "markdown",
   "metadata": {},
   "source": [
    "## Connect to PostgreSQL"
   ]
  },
  {
   "cell_type": "code",
   "execution_count": 244,
   "metadata": {},
   "outputs": [],
   "source": [
    "import psycopg2\n",
    "import io"
   ]
  },
  {
   "cell_type": "code",
   "execution_count": 245,
   "metadata": {},
   "outputs": [],
   "source": [
    "conn = psycopg2.connect(\n",
    "    dbname=\"postgres\",\n",
    "    user=\"postgres.rnxnnqsyjcircloxrryq\",\n",
    "    password=\"cse560courseproject\",\n",
    "    host=\"aws-0-us-east-1.pooler.supabase.com\",\n",
    "    port=6543\n",
    ")\n",
    "cur = conn.cursor()"
   ]
  },
  {
   "cell_type": "code",
   "execution_count": 253,
   "metadata": {},
   "outputs": [],
   "source": [
    "conn.rollback()"
   ]
  },
  {
   "cell_type": "markdown",
   "metadata": {},
   "source": [
    "## Upload Casts Relation"
   ]
  },
  {
   "cell_type": "code",
   "execution_count": 254,
   "metadata": {},
   "outputs": [
    {
     "data": {
      "text/plain": [
       "0"
      ]
     },
     "execution_count": 254,
     "metadata": {},
     "output_type": "execute_result"
    }
   ],
   "source": [
    "buffer = io.StringIO()\n",
    "casts_df.to_csv(buffer, index=False, header=False)\n",
    "buffer.seek(0)"
   ]
  },
  {
   "cell_type": "code",
   "execution_count": 255,
   "metadata": {},
   "outputs": [],
   "source": [
    "cur.copy_expert(\n",
    "    'COPY \"Cast\"(tconst, nconst, character) FROM STDIN WITH CSV',\n",
    "    buffer\n",
    ")\n",
    "conn.commit()\n"
   ]
  },
  {
   "cell_type": "code",
   "execution_count": null,
   "metadata": {},
   "outputs": [
    {
     "data": {
      "text/plain": [
       "np.False_"
      ]
     },
     "execution_count": 251,
     "metadata": {},
     "output_type": "execute_result"
    }
   ],
   "source": []
  },
  {
   "cell_type": "markdown",
   "metadata": {},
   "source": [
    "## Upload Principal"
   ]
  },
  {
   "cell_type": "code",
   "execution_count": 219,
   "metadata": {},
   "outputs": [
    {
     "data": {
      "text/plain": [
       "0"
      ]
     },
     "execution_count": 219,
     "metadata": {},
     "output_type": "execute_result"
    }
   ],
   "source": [
    "# Step 1: Create a CSV buffer from the DataFrame\n",
    "buffer = io.StringIO()\n",
    "crew_df.to_csv(buffer, index=False, header=False)\n",
    "buffer.seek(0)\n"
   ]
  },
  {
   "cell_type": "code",
   "execution_count": 220,
   "metadata": {},
   "outputs": [],
   "source": [
    "# upload data to job_category relation\n",
    "cur.copy_from(buffer, 'crew', sep=',', null='')\n",
    "conn.commit()"
   ]
  }
 ],
 "metadata": {
  "kernelspec": {
   "display_name": "machine-learning-udemy",
   "language": "python",
   "name": "python3"
  },
  "language_info": {
   "codemirror_mode": {
    "name": "ipython",
    "version": 3
   },
   "file_extension": ".py",
   "mimetype": "text/x-python",
   "name": "python",
   "nbconvert_exporter": "python",
   "pygments_lexer": "ipython3",
   "version": "3.13.1"
  }
 },
 "nbformat": 4,
 "nbformat_minor": 2
}
