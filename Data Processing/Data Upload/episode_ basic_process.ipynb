{
 "cells": [
  {
   "cell_type": "code",
   "execution_count": 1,
   "metadata": {},
   "outputs": [],
   "source": [
    "import pandas as pd\n",
    "import numpy as np"
   ]
  },
  {
   "cell_type": "code",
   "execution_count": 27,
   "metadata": {},
   "outputs": [
    {
     "name": "stdout",
     "output_type": "stream",
     "text": [
      "<class 'pandas.core.frame.DataFrame'>\n",
      "RangeIndex: 881413 entries, 0 to 881412\n",
      "Data columns (total 5 columns):\n",
      " #   Column          Non-Null Count   Dtype \n",
      "---  ------          --------------   ----- \n",
      " 0   tconst          881413 non-null  object\n",
      " 1   primaryTitle    881413 non-null  object\n",
      " 2   originalTitle   881413 non-null  object\n",
      " 3   startYear       881413 non-null  object\n",
      " 4   runtimeMinutes  881413 non-null  object\n",
      "dtypes: object(5)\n",
      "memory usage: 33.6+ MB\n"
     ]
    }
   ],
   "source": [
    "episode_basics_df = pd.read_csv(r\"C:\\Users\\19692\\Downloads\\CSE560-Project\\sampled_data\\epiosde_basic_sampled.tsv\", sep=\"\\t\")\n",
    "episode_basics_df.info()"
   ]
  },
  {
   "cell_type": "code",
   "execution_count": 28,
   "metadata": {},
   "outputs": [],
   "source": [
    "# replace \",\" or \";\" to \"/\" in the string\n",
    "episode_basics_df['primaryTitle'] = episode_basics_df['primaryTitle'].str.replace(r',','/', regex=False)\n",
    "episode_basics_df['primaryTitle'] = episode_basics_df['primaryTitle'].str.replace(r';','/', regex=False)\n",
    "episode_basics_df['originalTitle'] = episode_basics_df['originalTitle'].str.replace(r',','/', regex=False)\n",
    "episode_basics_df['originalTitle'] = episode_basics_df['originalTitle'].str.replace(r';','/', regex=False)"
   ]
  },
  {
   "cell_type": "code",
   "execution_count": 29,
   "metadata": {},
   "outputs": [],
   "source": [
    "# replace \\N to ''\n",
    "episode_basics_df['tconst'] = episode_basics_df['tconst'].replace(r'\\N','')\n",
    "episode_basics_df['primaryTitle'] = episode_basics_df['primaryTitle'].replace(r'\\N','')\n",
    "episode_basics_df['startYear'] = episode_basics_df['startYear'].replace(r'\\N','')\n",
    "episode_basics_df['runtimeMinutes'] = episode_basics_df['runtimeMinutes'].replace(r'\\N','')"
   ]
  },
  {
   "cell_type": "code",
   "execution_count": 30,
   "metadata": {},
   "outputs": [],
   "source": [
    "# delete data rows where \"tconst\" or \"primaryTitle\" is None based on the constraint.\n",
    "episode_basics_df[[\"tconst\", \"primaryTitle\"]].dropna()\n",
    "episode_basics_df = episode_basics_df[episode_basics_df[\"primaryTitle\"].isna()==False]"
   ]
  },
  {
   "cell_type": "code",
   "execution_count": 31,
   "metadata": {},
   "outputs": [],
   "source": [
    "# some records have wrong information\n",
    "# for example, put genres info in runtimeMinutes\n",
    "# delete them\n",
    "episode_basics_df = episode_basics_df[\n",
    "    episode_basics_df['runtimeMinutes'].isna() |\n",
    "    episode_basics_df['runtimeMinutes'].astype(str).str.isdigit() |\n",
    "    (episode_basics_df['runtimeMinutes'] == '')\n",
    "]\n",
    "\n"
   ]
  },
  {
   "cell_type": "code",
   "execution_count": 33,
   "metadata": {},
   "outputs": [],
   "source": [
    "import psycopg2\n",
    "import io"
   ]
  },
  {
   "cell_type": "code",
   "execution_count": 34,
   "metadata": {},
   "outputs": [],
   "source": [
    "conn = psycopg2.connect(\n",
    "    dbname=\"postgres\",\n",
    "    user=\"postgres.rnxnnqsyjcircloxrryq\",\n",
    "    password=\"cse560courseproject\",\n",
    "    host=\"aws-0-us-east-1.pooler.supabase.com\",\n",
    "    port=6543\n",
    ")\n",
    "cur = conn.cursor()"
   ]
  },
  {
   "cell_type": "markdown",
   "metadata": {},
   "source": [
    "## TV Movie Relation"
   ]
  },
  {
   "cell_type": "code",
   "execution_count": 41,
   "metadata": {},
   "outputs": [
    {
     "data": {
      "text/plain": [
       "0"
      ]
     },
     "execution_count": 41,
     "metadata": {},
     "output_type": "execute_result"
    }
   ],
   "source": [
    "\n",
    "\n",
    "# for tv_movie relation\n",
    "buffer = io.StringIO()\n",
    "episode_basics_df.to_csv(buffer, index=False, header=False)\n",
    "buffer.seek(0)\n"
   ]
  },
  {
   "cell_type": "code",
   "execution_count": 40,
   "metadata": {},
   "outputs": [],
   "source": [
    "conn.rollback()"
   ]
  },
  {
   "cell_type": "code",
   "execution_count": 42,
   "metadata": {},
   "outputs": [],
   "source": [
    "\n",
    "# upload data to tv_movie\n",
    "cur.copy_from(buffer, 'episode_details', sep=',', null='')\n",
    "conn.commit()"
   ]
  }
 ],
 "metadata": {
  "kernelspec": {
   "display_name": "machine-learning-udemy",
   "language": "python",
   "name": "python3"
  },
  "language_info": {
   "codemirror_mode": {
    "name": "ipython",
    "version": 3
   },
   "file_extension": ".py",
   "mimetype": "text/x-python",
   "name": "python",
   "nbconvert_exporter": "python",
   "pygments_lexer": "ipython3",
   "version": "3.13.1"
  }
 },
 "nbformat": 4,
 "nbformat_minor": 2
}
