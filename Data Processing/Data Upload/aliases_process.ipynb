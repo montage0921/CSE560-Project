{
 "cells": [
  {
   "cell_type": "code",
   "execution_count": 9,
   "metadata": {},
   "outputs": [],
   "source": [
    "import pandas as pd\n",
    "import numpy as np"
   ]
  },
  {
   "cell_type": "code",
   "execution_count": 10,
   "metadata": {},
   "outputs": [
    {
     "name": "stdout",
     "output_type": "stream",
     "text": [
      "<class 'pandas.core.frame.DataFrame'>\n",
      "RangeIndex: 515109 entries, 0 to 515108\n",
      "Data columns (total 8 columns):\n",
      " #   Column           Non-Null Count   Dtype \n",
      "---  ------           --------------   ----- \n",
      " 0   titleId          515109 non-null  object\n",
      " 1   ordering         515109 non-null  int64 \n",
      " 2   title            515109 non-null  object\n",
      " 3   region           515100 non-null  object\n",
      " 4   language         515109 non-null  object\n",
      " 5   types            515109 non-null  object\n",
      " 6   attributes       515109 non-null  object\n",
      " 7   isOriginalTitle  515109 non-null  int64 \n",
      "dtypes: int64(2), object(6)\n",
      "memory usage: 31.4+ MB\n"
     ]
    }
   ],
   "source": [
    "Title_Aliases_sampled = pd.read_csv(r\"C:\\Users\\19692\\Downloads\\CSE560-Project\\sampled_data\\Title_Aliases_sampled.tsv\", sep=\"\\t\")\n",
    "Title_Aliases_sampled.info()"
   ]
  },
  {
   "cell_type": "code",
   "execution_count": 11,
   "metadata": {},
   "outputs": [
    {
     "data": {
      "text/html": [
       "<div>\n",
       "<style scoped>\n",
       "    .dataframe tbody tr th:only-of-type {\n",
       "        vertical-align: middle;\n",
       "    }\n",
       "\n",
       "    .dataframe tbody tr th {\n",
       "        vertical-align: top;\n",
       "    }\n",
       "\n",
       "    .dataframe thead th {\n",
       "        text-align: right;\n",
       "    }\n",
       "</style>\n",
       "<table border=\"1\" class=\"dataframe\">\n",
       "  <thead>\n",
       "    <tr style=\"text-align: right;\">\n",
       "      <th></th>\n",
       "      <th>titleId</th>\n",
       "      <th>ordering</th>\n",
       "      <th>title</th>\n",
       "      <th>region</th>\n",
       "      <th>language</th>\n",
       "      <th>types</th>\n",
       "      <th>attributes</th>\n",
       "      <th>isOriginalTitle</th>\n",
       "    </tr>\n",
       "  </thead>\n",
       "  <tbody>\n",
       "    <tr>\n",
       "      <th>0</th>\n",
       "      <td>tt0000675</td>\n",
       "      <td>1</td>\n",
       "      <td>Don Quijote</td>\n",
       "      <td>\\N</td>\n",
       "      <td>\\N</td>\n",
       "      <td>original</td>\n",
       "      <td>\\N</td>\n",
       "      <td>1</td>\n",
       "    </tr>\n",
       "    <tr>\n",
       "      <th>1</th>\n",
       "      <td>tt0000675</td>\n",
       "      <td>2</td>\n",
       "      <td>Don Quijote</td>\n",
       "      <td>ES</td>\n",
       "      <td>\\N</td>\n",
       "      <td>imdbDisplay</td>\n",
       "      <td>\\N</td>\n",
       "      <td>0</td>\n",
       "    </tr>\n",
       "    <tr>\n",
       "      <th>2</th>\n",
       "      <td>tt0000862</td>\n",
       "      <td>1</td>\n",
       "      <td>Faldgruben</td>\n",
       "      <td>\\N</td>\n",
       "      <td>\\N</td>\n",
       "      <td>original</td>\n",
       "      <td>\\N</td>\n",
       "      <td>1</td>\n",
       "    </tr>\n",
       "    <tr>\n",
       "      <th>3</th>\n",
       "      <td>tt0000862</td>\n",
       "      <td>2</td>\n",
       "      <td>Faldgruben</td>\n",
       "      <td>DK</td>\n",
       "      <td>\\N</td>\n",
       "      <td>imdbDisplay</td>\n",
       "      <td>\\N</td>\n",
       "      <td>0</td>\n",
       "    </tr>\n",
       "    <tr>\n",
       "      <th>4</th>\n",
       "      <td>tt0001059</td>\n",
       "      <td>1</td>\n",
       "      <td>O Terremoto de Benavente</td>\n",
       "      <td>\\N</td>\n",
       "      <td>\\N</td>\n",
       "      <td>original</td>\n",
       "      <td>\\N</td>\n",
       "      <td>1</td>\n",
       "    </tr>\n",
       "  </tbody>\n",
       "</table>\n",
       "</div>"
      ],
      "text/plain": [
       "     titleId  ordering                     title region language        types  \\\n",
       "0  tt0000675         1               Don Quijote     \\N       \\N     original   \n",
       "1  tt0000675         2               Don Quijote     ES       \\N  imdbDisplay   \n",
       "2  tt0000862         1                Faldgruben     \\N       \\N     original   \n",
       "3  tt0000862         2                Faldgruben     DK       \\N  imdbDisplay   \n",
       "4  tt0001059         1  O Terremoto de Benavente     \\N       \\N     original   \n",
       "\n",
       "  attributes  isOriginalTitle  \n",
       "0         \\N                1  \n",
       "1         \\N                0  \n",
       "2         \\N                1  \n",
       "3         \\N                0  \n",
       "4         \\N                1  "
      ]
     },
     "execution_count": 11,
     "metadata": {},
     "output_type": "execute_result"
    }
   ],
   "source": [
    "Title_Aliases_sampled.head()"
   ]
  },
  {
   "cell_type": "code",
   "execution_count": 12,
   "metadata": {},
   "outputs": [],
   "source": [
    "Title_Aliases_sampled = Title_Aliases_sampled.drop('attributes',axis=1)\n",
    "Title_Aliases_sampled = Title_Aliases_sampled.drop('types',axis=1)"
   ]
  },
  {
   "cell_type": "code",
   "execution_count": 13,
   "metadata": {},
   "outputs": [],
   "source": [
    "# replace \",\" or \";\" to \"/\" in the string\n",
    "Title_Aliases_sampled['region'] = Title_Aliases_sampled['region'].str.replace(r',','/', regex=False)\n",
    "Title_Aliases_sampled['region'] = Title_Aliases_sampled['region'].str.replace(r';','/', regex=False)\n",
    "Title_Aliases_sampled['language'] = Title_Aliases_sampled['language'].str.replace(r',','/', regex=False)\n",
    "Title_Aliases_sampled['language'] = Title_Aliases_sampled['language'].str.replace(r';','/', regex=False)\n",
    "Title_Aliases_sampled['title'] = Title_Aliases_sampled['title'].str.replace(r',','/', regex=False)\n",
    "Title_Aliases_sampled['title'] = Title_Aliases_sampled['title'].str.replace(r';','/', regex=False)"
   ]
  },
  {
   "cell_type": "code",
   "execution_count": 14,
   "metadata": {},
   "outputs": [],
   "source": [
    "# replace \\N to ''\n",
    "Title_Aliases_sampled['region'] = Title_Aliases_sampled['region'].replace(r'\\N','')\n",
    "Title_Aliases_sampled['language'] = Title_Aliases_sampled['language'].replace(r'\\N','')"
   ]
  },
  {
   "cell_type": "code",
   "execution_count": 16,
   "metadata": {},
   "outputs": [
    {
     "data": {
      "text/html": [
       "<div>\n",
       "<style scoped>\n",
       "    .dataframe tbody tr th:only-of-type {\n",
       "        vertical-align: middle;\n",
       "    }\n",
       "\n",
       "    .dataframe tbody tr th {\n",
       "        vertical-align: top;\n",
       "    }\n",
       "\n",
       "    .dataframe thead th {\n",
       "        text-align: right;\n",
       "    }\n",
       "</style>\n",
       "<table border=\"1\" class=\"dataframe\">\n",
       "  <thead>\n",
       "    <tr style=\"text-align: right;\">\n",
       "      <th></th>\n",
       "      <th>titleId</th>\n",
       "      <th>ordering</th>\n",
       "      <th>title</th>\n",
       "      <th>isOriginalTitle</th>\n",
       "    </tr>\n",
       "  </thead>\n",
       "  <tbody>\n",
       "    <tr>\n",
       "      <th>0</th>\n",
       "      <td>tt0000675</td>\n",
       "      <td>1</td>\n",
       "      <td>Don Quijote</td>\n",
       "      <td>1</td>\n",
       "    </tr>\n",
       "    <tr>\n",
       "      <th>1</th>\n",
       "      <td>tt0000675</td>\n",
       "      <td>2</td>\n",
       "      <td>Don Quijote</td>\n",
       "      <td>0</td>\n",
       "    </tr>\n",
       "    <tr>\n",
       "      <th>2</th>\n",
       "      <td>tt0000862</td>\n",
       "      <td>1</td>\n",
       "      <td>Faldgruben</td>\n",
       "      <td>1</td>\n",
       "    </tr>\n",
       "    <tr>\n",
       "      <th>3</th>\n",
       "      <td>tt0000862</td>\n",
       "      <td>2</td>\n",
       "      <td>Faldgruben</td>\n",
       "      <td>0</td>\n",
       "    </tr>\n",
       "    <tr>\n",
       "      <th>4</th>\n",
       "      <td>tt0001059</td>\n",
       "      <td>1</td>\n",
       "      <td>O Terremoto de Benavente</td>\n",
       "      <td>1</td>\n",
       "    </tr>\n",
       "    <tr>\n",
       "      <th>...</th>\n",
       "      <td>...</td>\n",
       "      <td>...</td>\n",
       "      <td>...</td>\n",
       "      <td>...</td>\n",
       "    </tr>\n",
       "    <tr>\n",
       "      <th>515104</th>\n",
       "      <td>tt9916428</td>\n",
       "      <td>6</td>\n",
       "      <td>红星照耀中国</td>\n",
       "      <td>0</td>\n",
       "    </tr>\n",
       "    <tr>\n",
       "      <th>515105</th>\n",
       "      <td>tt9916706</td>\n",
       "      <td>1</td>\n",
       "      <td>Dankyavar Danka</td>\n",
       "      <td>1</td>\n",
       "    </tr>\n",
       "    <tr>\n",
       "      <th>515106</th>\n",
       "      <td>tt9916706</td>\n",
       "      <td>2</td>\n",
       "      <td>Dankyavar Danka</td>\n",
       "      <td>0</td>\n",
       "    </tr>\n",
       "    <tr>\n",
       "      <th>515107</th>\n",
       "      <td>tt9916730</td>\n",
       "      <td>1</td>\n",
       "      <td>6 Gunn</td>\n",
       "      <td>1</td>\n",
       "    </tr>\n",
       "    <tr>\n",
       "      <th>515108</th>\n",
       "      <td>tt9916730</td>\n",
       "      <td>2</td>\n",
       "      <td>६ गुण</td>\n",
       "      <td>0</td>\n",
       "    </tr>\n",
       "  </tbody>\n",
       "</table>\n",
       "<p>515109 rows × 4 columns</p>\n",
       "</div>"
      ],
      "text/plain": [
       "          titleId  ordering                     title  isOriginalTitle\n",
       "0       tt0000675         1               Don Quijote                1\n",
       "1       tt0000675         2               Don Quijote                0\n",
       "2       tt0000862         1                Faldgruben                1\n",
       "3       tt0000862         2                Faldgruben                0\n",
       "4       tt0001059         1  O Terremoto de Benavente                1\n",
       "...           ...       ...                       ...              ...\n",
       "515104  tt9916428         6                    红星照耀中国                0\n",
       "515105  tt9916706         1           Dankyavar Danka                1\n",
       "515106  tt9916706         2           Dankyavar Danka                0\n",
       "515107  tt9916730         1                    6 Gunn                1\n",
       "515108  tt9916730         2                     ६ गुण                0\n",
       "\n",
       "[515109 rows x 4 columns]"
      ]
     },
     "execution_count": 16,
     "metadata": {},
     "output_type": "execute_result"
    }
   ],
   "source": [
    "Title_Aliases_sampled[[\"titleId\", \"ordering\",\"title\",\"isOriginalTitle\"]].dropna()"
   ]
  },
  {
   "cell_type": "code",
   "execution_count": 17,
   "metadata": {},
   "outputs": [],
   "source": [
    "import psycopg2\n",
    "import io"
   ]
  },
  {
   "cell_type": "code",
   "execution_count": 18,
   "metadata": {},
   "outputs": [],
   "source": [
    "conn = psycopg2.connect(\n",
    "    dbname=\"postgres\",\n",
    "    user=\"postgres.rnxnnqsyjcircloxrryq\",\n",
    "    password=\"cse560courseproject\",\n",
    "    host=\"aws-0-us-east-1.pooler.supabase.com\",\n",
    "    port=6543\n",
    ")\n",
    "cur = conn.cursor()"
   ]
  },
  {
   "cell_type": "code",
   "execution_count": 19,
   "metadata": {},
   "outputs": [
    {
     "data": {
      "text/plain": [
       "0"
      ]
     },
     "execution_count": 19,
     "metadata": {},
     "output_type": "execute_result"
    }
   ],
   "source": [
    "\n",
    "\n",
    "# for tv_movie relation\n",
    "buffer = io.StringIO()\n",
    "Title_Aliases_sampled.to_csv(buffer, index=False, header=False)\n",
    "buffer.seek(0)\n"
   ]
  },
  {
   "cell_type": "code",
   "execution_count": 20,
   "metadata": {},
   "outputs": [],
   "source": [
    "conn.rollback()"
   ]
  },
  {
   "cell_type": "code",
   "execution_count": 21,
   "metadata": {},
   "outputs": [],
   "source": [
    "\n",
    "# upload data to tv_movie\n",
    "cur.copy_from(buffer, 'title_aliases', sep=',', null='')\n",
    "conn.commit()"
   ]
  }
 ],
 "metadata": {
  "kernelspec": {
   "display_name": "machine-learning-udemy",
   "language": "python",
   "name": "python3"
  },
  "language_info": {
   "codemirror_mode": {
    "name": "ipython",
    "version": 3
   },
   "file_extension": ".py",
   "mimetype": "text/x-python",
   "name": "python",
   "nbconvert_exporter": "python",
   "pygments_lexer": "ipython3",
   "version": "3.13.1"
  }
 },
 "nbformat": 4,
 "nbformat_minor": 2
}
