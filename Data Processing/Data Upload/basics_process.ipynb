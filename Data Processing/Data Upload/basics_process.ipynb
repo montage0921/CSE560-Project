{
 "cells": [
  {
   "cell_type": "code",
   "execution_count": 2,
   "metadata": {},
   "outputs": [],
   "source": [
    "import pandas as pd\n",
    "import numpy as np"
   ]
  },
  {
   "cell_type": "code",
   "execution_count": 35,
   "metadata": {},
   "outputs": [
    {
     "name": "stdout",
     "output_type": "stream",
     "text": [
      "<class 'pandas.core.frame.DataFrame'>\n",
      "RangeIndex: 120134 entries, 0 to 120133\n",
      "Data columns (total 9 columns):\n",
      " #   Column          Non-Null Count   Dtype \n",
      "---  ------          --------------   ----- \n",
      " 0   tconst          120134 non-null  object\n",
      " 1   titleType       120134 non-null  object\n",
      " 2   primaryTitle    120134 non-null  object\n",
      " 3   originalTitle   120134 non-null  object\n",
      " 4   isAdult         120134 non-null  int64 \n",
      " 5   startYear       120134 non-null  object\n",
      " 6   endYear         120134 non-null  object\n",
      " 7   runtimeMinutes  120134 non-null  object\n",
      " 8   genres          120134 non-null  object\n",
      "dtypes: int64(1), object(8)\n",
      "memory usage: 8.2+ MB\n"
     ]
    }
   ],
   "source": [
    "title_basics_df = pd.read_csv(r\"C:\\Users\\19692\\Downloads\\CSE560-Project\\sampled_data\\TV_Movie_sampled.tsv\", sep=\"\\t\")\n",
    "title_basics_df.info()"
   ]
  },
  {
   "cell_type": "code",
   "execution_count": 4,
   "metadata": {},
   "outputs": [],
   "source": [
    "base_ele = [\"tconst\", \"titleType\", \"primaryTitle\", \"originalTitle\", \"isAdult\", \"startYear\", \"endYear\", \"runtimeMinutes\"]\n",
    "TV_Movie = title_basics_df[base_ele]"
   ]
  },
  {
   "cell_type": "code",
   "execution_count": 5,
   "metadata": {},
   "outputs": [],
   "source": [
    "# Now drop tvEpisode entries from TV_Movie\n",
    "TV_Movie = TV_Movie[TV_Movie[\"titleType\"] != \"tvEpisode\"]\n"
   ]
  },
  {
   "cell_type": "code",
   "execution_count": 6,
   "metadata": {},
   "outputs": [],
   "source": [
    "# replace \",\" or \";\" to \"/\" in the string\n",
    "TV_Movie['primaryTitle'] = TV_Movie['primaryTitle'].str.replace(r',','/', regex=False)\n",
    "TV_Movie['primaryTitle'] = TV_Movie['primaryTitle'].str.replace(r';','/', regex=False)\n",
    "TV_Movie['originalTitle'] = TV_Movie['originalTitle'].str.replace(r',','/', regex=False)\n",
    "TV_Movie['originalTitle'] = TV_Movie['originalTitle'].str.replace(r';','/', regex=False)"
   ]
  },
  {
   "cell_type": "code",
   "execution_count": 7,
   "metadata": {},
   "outputs": [],
   "source": [
    "# replace \\N to ''\n",
    "TV_Movie['tconst'] = TV_Movie['tconst'].replace(r'\\N','')\n",
    "TV_Movie['titleType'] = TV_Movie['titleType'].replace(r'\\N','')\n",
    "TV_Movie['primaryTitle'] = TV_Movie['primaryTitle'].replace(r'\\N','')\n",
    "TV_Movie['startYear'] = TV_Movie['startYear'].replace(r'\\N','')\n",
    "TV_Movie['endYear'] = TV_Movie['endYear'].replace(r'\\N','')\n",
    "TV_Movie['runtimeMinutes'] = TV_Movie['runtimeMinutes'].replace(r'\\N','')"
   ]
  },
  {
   "cell_type": "code",
   "execution_count": 8,
   "metadata": {},
   "outputs": [],
   "source": [
    "# delete data rows where \"tconst\" or \"primaryTitle\" is None based on the constraint.\n",
    "TV_Movie[[\"tconst\", \"primaryTitle\"]].dropna()\n",
    "TV_Movie = TV_Movie[TV_Movie[\"primaryTitle\"].isna()==False]"
   ]
  },
  {
   "cell_type": "code",
   "execution_count": 9,
   "metadata": {},
   "outputs": [],
   "source": [
    "import psycopg2\n",
    "import io"
   ]
  },
  {
   "cell_type": "code",
   "execution_count": 10,
   "metadata": {},
   "outputs": [],
   "source": [
    "conn = psycopg2.connect(\n",
    "    dbname=\"postgres\",\n",
    "    user=\"postgres.rnxnnqsyjcircloxrryq\",\n",
    "    password=\"cse560courseproject\",\n",
    "    host=\"aws-0-us-east-1.pooler.supabase.com\",\n",
    "    port=6543\n",
    ")\n",
    "cur = conn.cursor()"
   ]
  },
  {
   "cell_type": "markdown",
   "metadata": {},
   "source": [
    "## TV Movie Relation"
   ]
  },
  {
   "cell_type": "code",
   "execution_count": 12,
   "metadata": {},
   "outputs": [
    {
     "data": {
      "text/plain": [
       "0"
      ]
     },
     "execution_count": 12,
     "metadata": {},
     "output_type": "execute_result"
    }
   ],
   "source": [
    "\n",
    "\n",
    "# for tv_movie relation\n",
    "buffer = io.StringIO()\n",
    "TV_Movie.to_csv(buffer, index=False, header=False)\n",
    "buffer.seek(0)\n"
   ]
  },
  {
   "cell_type": "code",
   "execution_count": 13,
   "metadata": {},
   "outputs": [],
   "source": [
    "conn.rollback()"
   ]
  },
  {
   "cell_type": "code",
   "execution_count": 14,
   "metadata": {},
   "outputs": [],
   "source": [
    "\n",
    "# upload data to tv_movie\n",
    "cur.copy_from(buffer, 'tv_movie', sep=',', null='')\n",
    "conn.commit()"
   ]
  },
  {
   "cell_type": "markdown",
   "metadata": {},
   "source": [
    "## Genres"
   ]
  },
  {
   "cell_type": "code",
   "execution_count": 36,
   "metadata": {},
   "outputs": [],
   "source": [
    "title_basics_df['genres'] = title_basics_df['genres'].str.split(',')\n",
    "genres_explode = title_basics_df.explode('genres')"
   ]
  },
  {
   "cell_type": "code",
   "execution_count": 46,
   "metadata": {},
   "outputs": [],
   "source": [
    "genres_set = set()\n",
    "for (i, row) in title_basics_df.iterrows():\n",
    "    for g in row['genres']:\n",
    "        genres_set.add(g)\n",
    "genres_set.remove('\\\\N')"
   ]
  },
  {
   "cell_type": "code",
   "execution_count": 49,
   "metadata": {},
   "outputs": [],
   "source": [
    "genres_df = pd.DataFrame(list(genres_set),columns=['genre'])"
   ]
  },
  {
   "cell_type": "code",
   "execution_count": 51,
   "metadata": {},
   "outputs": [
    {
     "data": {
      "text/plain": [
       "0"
      ]
     },
     "execution_count": 51,
     "metadata": {},
     "output_type": "execute_result"
    }
   ],
   "source": [
    "# for tv_movie relation\n",
    "buffer = io.StringIO()\n",
    "genres_df.to_csv(buffer, index=False, header=False)\n",
    "buffer.seek(0)"
   ]
  },
  {
   "cell_type": "code",
   "execution_count": 52,
   "metadata": {},
   "outputs": [],
   "source": [
    "cur.copy_from(buffer, 'genres', sep=',', null='', columns=('genre',))\n",
    "conn.commit()"
   ]
  },
  {
   "cell_type": "markdown",
   "metadata": {},
   "source": [
    "## Genre Movie"
   ]
  },
  {
   "cell_type": "code",
   "execution_count": 54,
   "metadata": {},
   "outputs": [],
   "source": [
    "genres_df = genres_df.reset_index().rename(columns={'index':'genreID'})"
   ]
  },
  {
   "cell_type": "code",
   "execution_count": 56,
   "metadata": {},
   "outputs": [],
   "source": [
    "genres_df['genreID'] = genres_df['genreID'] + 1"
   ]
  },
  {
   "cell_type": "code",
   "execution_count": 60,
   "metadata": {},
   "outputs": [],
   "source": [
    "genres_explode['genre'] = genres_explode['genres']"
   ]
  },
  {
   "cell_type": "code",
   "execution_count": 66,
   "metadata": {},
   "outputs": [],
   "source": [
    "genre_movie = genres_explode.merge(genres_df,on='genre',how='inner')"
   ]
  },
  {
   "cell_type": "code",
   "execution_count": 67,
   "metadata": {},
   "outputs": [],
   "source": [
    "genre_movie = genre_movie[['genreID','tconst']]"
   ]
  },
  {
   "cell_type": "code",
   "execution_count": 69,
   "metadata": {},
   "outputs": [],
   "source": [
    "tconst_set = set(TV_Movie['tconst'])"
   ]
  },
  {
   "cell_type": "code",
   "execution_count": 70,
   "metadata": {},
   "outputs": [],
   "source": [
    "genre_movie = genre_movie[genre_movie['tconst'].isin(tconst_set)]"
   ]
  },
  {
   "cell_type": "code",
   "execution_count": 71,
   "metadata": {},
   "outputs": [
    {
     "data": {
      "text/plain": [
       "0"
      ]
     },
     "execution_count": 71,
     "metadata": {},
     "output_type": "execute_result"
    }
   ],
   "source": [
    "# for tv_movie relation\n",
    "buffer = io.StringIO()\n",
    "genre_movie.to_csv(buffer, index=False, header=False)\n",
    "buffer.seek(0)"
   ]
  },
  {
   "cell_type": "code",
   "execution_count": 72,
   "metadata": {},
   "outputs": [],
   "source": [
    "cur.copy_from(buffer, 'genres_movie', sep=',', null='')\n",
    "conn.commit()"
   ]
  }
 ],
 "metadata": {
  "kernelspec": {
   "display_name": "machine-learning-udemy",
   "language": "python",
   "name": "python3"
  },
  "language_info": {
   "codemirror_mode": {
    "name": "ipython",
    "version": 3
   },
   "file_extension": ".py",
   "mimetype": "text/x-python",
   "name": "python",
   "nbconvert_exporter": "python",
   "pygments_lexer": "ipython3",
   "version": "3.13.1"
  }
 },
 "nbformat": 4,
 "nbformat_minor": 2
}
